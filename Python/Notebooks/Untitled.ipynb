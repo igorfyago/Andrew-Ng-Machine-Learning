{
 "cells": [
  {
   "cell_type": "code",
   "execution_count": 8,
   "metadata": {},
   "outputs": [
    {
     "name": "stdout",
     "output_type": "stream",
     "text": [
      "Accuracy = 80\n",
      "Accuracy =                                                                                                  0.8\n",
      "Accuracy =                                                                                                  0.8\n"
     ]
    }
   ],
   "source": [
    "accuracy=0.80\n",
    "\n",
    "\n",
    "print (\"Accuracy = %.2g\" % (accuracy * 100))\n",
    "print (\"Accuracy = %100.2g\" % (accuracy))\n",
    "print (\"Accuracy = %100.2g\" % (accuracy))"
   ]
  },
  {
   "cell_type": "code",
   "execution_count": 9,
   "metadata": {},
   "outputs": [
    {
     "name": "stdout",
     "output_type": "stream",
     "text": [
      "Error = 0.2 \n"
     ]
    }
   ],
   "source": [
    "print (\"Error = %g \" % (1.0 - accuracy))"
   ]
  },
  {
   "cell_type": "code",
   "execution_count": null,
   "metadata": {},
   "outputs": [],
   "source": []
  }
 ],
 "metadata": {
  "kernelspec": {
   "display_name": "Python 3",
   "language": "python",
   "name": "python3"
  },
  "language_info": {
   "codemirror_mode": {
    "name": "ipython",
    "version": 3
   },
   "file_extension": ".py",
   "mimetype": "text/x-python",
   "name": "python",
   "nbconvert_exporter": "python",
   "pygments_lexer": "ipython3",
   "version": "3.5.6"
  }
 },
 "nbformat": 4,
 "nbformat_minor": 2
}
