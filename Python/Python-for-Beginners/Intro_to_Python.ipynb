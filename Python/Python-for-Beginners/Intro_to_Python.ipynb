{
 "cells": [
  {
   "cell_type": "markdown",
   "metadata": {},
   "source": [
    "# Introduction to Python for Beginners and me "
   ]
  },
  {
   "cell_type": "markdown",
   "metadata": {},
   "source": [
    "##Before starting with real stuff ... a few words on how to navigate the notebook:\n",
    "\n",
    "* There are two main types of cells : Code and Text\n",
    "* In \"code\" cells \"#\" at the beginning of a line marks the line as comment\n",
    "* In \"code\" cells every non commented line is intepreted\n",
    "* In \"code\" cells, commands that are preceded by % are \"magics\" and are special commands in Ipython to add some functionality to the runtime interactive environment.\n",
    "* Shift+Return shortcut to execute a cell\n",
    "* Alt+Return   shortcut to execute a cell and create another one below\n",
    "\n",
    "## And remember that :\n",
    "* Python is an interpreted language\n",
    "* Indentation has a syntactic meaning ( we'll talk about this in few min )\n",
    "* Indexes start from 0  ( similar to C )"
   ]
  },
  {
   "cell_type": "markdown",
   "metadata": {},
   "source": [
    "### 1. Operating with Numbers"
   ]
  },
  {
   "cell_type": "code",
   "execution_count": null,
   "metadata": {
    "collapsed": false
   },
   "outputs": [],
   "source": [
    "## we can use python as a calculator \n",
    "6*7  #this is a comment"
   ]
  },
  {
   "cell_type": "code",
   "execution_count": null,
   "metadata": {
    "collapsed": false
   },
   "outputs": [],
   "source": [
    "6+7"
   ]
  },
  {
   "cell_type": "code",
   "execution_count": null,
   "metadata": {
    "collapsed": false
   },
   "outputs": [],
   "source": [
    "6-7"
   ]
  },
  {
   "cell_type": "code",
   "execution_count": null,
   "metadata": {
    "collapsed": false
   },
   "outputs": [],
   "source": [
    "## note that we are doing calculation among integers\n",
    "6/7"
   ]
  },
  {
   "cell_type": "code",
   "execution_count": null,
   "metadata": {
    "collapsed": false
   },
   "outputs": [],
   "source": [
    "## let's make sure that the interpreter understands we want to use floating point\n",
    "6./7"
   ]
  },
  {
   "cell_type": "code",
   "execution_count": null,
   "metadata": {
    "collapsed": false
   },
   "outputs": [],
   "source": [
    "## use print to display messages on the screen\n",
    "x = 6./7\n",
    "print \"6./7 = \" , x \n",
    "## this is a nicer way to print with a specific format\n",
    "print \"6./7 = %g\" % x \n",
    "## note that the format matters \n",
    "print \"6./7 = %d\" % x "
   ]
  },
  {
   "cell_type": "code",
   "execution_count": null,
   "metadata": {
    "collapsed": false
   },
   "outputs": [],
   "source": [
    "## let's try to be 'python3 friendly'\n",
    "from __future__ import print_function"
   ]
  },
  {
   "cell_type": "code",
   "execution_count": null,
   "metadata": {
    "collapsed": false
   },
   "outputs": [],
   "source": [
    "print(\"6./7 = %g\" % x )"
   ]
  },
  {
   "cell_type": "code",
   "execution_count": null,
   "metadata": {
    "collapsed": false
   },
   "outputs": [],
   "source": [
    "## You don't need to define the type of variable. The interpreter will guess.\n",
    "a=6\n",
    "b=7\n",
    "print (a*b , a+b, a-b, a/b )\n",
    "\n",
    "## As in the previous example, if one element is floating point, the interpreter will do an automatic cast\n",
    "print \n",
    "a=6.   ## this is now float\n",
    "b=7\n",
    "print (a*b , a+b, a-b, a/b )"
   ]
  },
  {
   "cell_type": "code",
   "execution_count": null,
   "metadata": {
    "collapsed": false
   },
   "outputs": [],
   "source": []
  },
  {
   "cell_type": "code",
   "execution_count": null,
   "metadata": {
    "collapsed": false
   },
   "outputs": [],
   "source": [
    "## well, let's figure out how big can an integer be\n",
    "## \"import\" loads additional modules into the interpreter environment \n",
    "import sys\n",
    "#sys.maxsize gives the maximum integer \n",
    "sys.maxsize \n",
    "\n"
   ]
  },
  {
   "cell_type": "code",
   "execution_count": null,
   "metadata": {
    "collapsed": false
   },
   "outputs": [],
   "source": [
    "## you can probably guess how many bits an integer uses :)\n",
    "2**62 + ( 2**62 -1 )"
   ]
  },
  {
   "cell_type": "code",
   "execution_count": null,
   "metadata": {
    "collapsed": false
   },
   "outputs": [],
   "source": [
    "## there is another integer type that has \"unlimited precision\"\n",
    "sys.maxsize + 1 "
   ]
  },
  {
   "cell_type": "code",
   "execution_count": null,
   "metadata": {
    "collapsed": false
   },
   "outputs": [],
   "source": [
    "## and what is a float for the interpreter\n",
    "sys.float_info\n",
    "\n",
    "## float is implemented using  \"double\" in C  "
   ]
  },
  {
   "cell_type": "code",
   "execution_count": null,
   "metadata": {
    "collapsed": false
   },
   "outputs": [],
   "source": [
    "sqrt(4)"
   ]
  },
  {
   "cell_type": "code",
   "execution_count": null,
   "metadata": {
    "collapsed": false
   },
   "outputs": [],
   "source": [
    "## the math module provides the basic math function from  C standard\n",
    "import math \n",
    "math.sqrt(4)"
   ]
  },
  {
   "cell_type": "code",
   "execution_count": null,
   "metadata": {
    "collapsed": false
   },
   "outputs": [],
   "source": [
    "## we can import from a module specific symbols into the current namespace and use them directly\n",
    "print (math.exp(2.))\n",
    "\n",
    "from math import exp\n",
    "print (exp(2.))"
   ]
  },
  {
   "cell_type": "code",
   "execution_count": null,
   "metadata": {
    "collapsed": false
   },
   "outputs": [],
   "source": [
    "## in case you need complex numbers \n",
    "z=3.5+4j\n",
    "\n",
    "print (\"Re(z) = %g\" % z.real)\n",
    "print (\"Im(z) = %g\" % z.imag)\n",
    "## when we want to fit more than one value in a formatted string \n",
    "print (\"Re(z) = %g ; Im(z) = %g \" % ( z.real , z.imag ))\n"
   ]
  },
  {
   "cell_type": "code",
   "execution_count": null,
   "metadata": {
    "collapsed": false
   },
   "outputs": [],
   "source": [
    "## to do standard math operation on complex numbers you have to use the module cmath\n",
    "import cmath\n",
    "cmath.sqrt(-4)"
   ]
  },
  {
   "cell_type": "code",
   "execution_count": null,
   "metadata": {
    "collapsed": false
   },
   "outputs": [],
   "source": [
    "## Some basic logic operators \n",
    "a = 2 \n",
    "b = 3 \n",
    "print (\"a = \" ,a )\n",
    "print (\"b = \" ,b)\n",
    "\n",
    "## == stands for \"is equal to\"  \n",
    "## be careful and do not confuse \n",
    "## ==  which is an operator that compares the two operand\n",
    "## with = , which is an assignment operator.\n",
    "print (\"a == b is \" , a == b )\n",
    "\n",
    "## != \"not equal to\" \n",
    "print (\"a != b is \" , a != b )\n",
    "\n",
    "## greater and smaller than\n",
    "print (\"a < b is \" , a < b )\n",
    "print (\"a > b is \" , a > b )\n",
    "\n",
    "## the basic boolean types.\n",
    "print (\"True is ... well ... \" , True)\n",
    "print  (\"...and obviously False is \" , False )"
   ]
  },
  {
   "cell_type": "markdown",
   "metadata": {},
   "source": [
    "## That's enough numbers for now. Let have fun with strings"
   ]
  },
  {
   "cell_type": "code",
   "execution_count": null,
   "metadata": {
    "collapsed": false
   },
   "outputs": [],
   "source": [
    "## a string is just a sequence of characters within quotes \"\" or '' \n",
    "mystr = \"My name is Francesco\"\n",
    "print (mystr)\n",
    "\n",
    "## it does not matter if you use '' or \"\" , as long as you don't mix them\n",
    "mystr = 'My name is Francesco'\n",
    "print (mystr)"
   ]
  },
  {
   "cell_type": "code",
   "execution_count": null,
   "metadata": {
    "collapsed": false
   },
   "outputs": [],
   "source": [
    "## String are easy to manipulate in python \n",
    "## we can for example measure their length \n",
    "mystr = 'my string'\n",
    "len(mystr)"
   ]
  },
  {
   "cell_type": "raw",
   "metadata": {},
   "source": [
    "Indexing strings :\n",
    "\n",
    "   +---+---+---+---+---+---+---+---+---+\n",
    "   | m | y |   | s | t | r | i | n | g |\n",
    "   +---+---+---+---+---+---+---+---+---+\n",
    "     0   1   2   3   4   5   6   7   8\n",
    "    -9  -8  -7  -6  -5  -4  -3  -2  -1                  \n",
    "     "
   ]
  },
  {
   "cell_type": "code",
   "execution_count": null,
   "metadata": {
    "collapsed": false
   },
   "outputs": [],
   "source": [
    "## or we can extract substrings\n",
    "mystr = 'my string'\n",
    "\n",
    "print (mystr[3])\n",
    "\n",
    "print (mystr[-1])\n",
    "\n",
    "print (mystr[0:9])\n",
    "\n",
    "print (mystr[3:])\n",
    "\n",
    "print (mystr[3:-1])\n"
   ]
  },
  {
   "cell_type": "raw",
   "metadata": {},
   "source": [
    "Another way of visualizing Slicing :\n",
    "\n",
    "   +---+---+---+---+---+---+---+---+---+\n",
    "   | m | y |   | s | t | r | i | n | g |\n",
    "   +---+---+---+---+---+---+---+---+---+\n",
    "   0   1   2   3   4   5   6   7   8   9\n",
    " -10  -9  -8  -7  -6  -5  -4  -3  -2  -1\n",
    " "
   ]
  },
  {
   "cell_type": "code",
   "execution_count": null,
   "metadata": {
    "collapsed": false
   },
   "outputs": [],
   "source": [
    "## dir() gives information on the attributes of an object \n",
    "dir(mystr)"
   ]
  },
  {
   "cell_type": "code",
   "execution_count": null,
   "metadata": {
    "collapsed": false
   },
   "outputs": [],
   "source": [
    "## to learn more about something we can use help()\n",
    "help(mystr.replace)"
   ]
  },
  {
   "cell_type": "code",
   "execution_count": null,
   "metadata": {
    "collapsed": false
   },
   "outputs": [],
   "source": [
    "## or the fancy ipython version \"?\"\n",
    "mystr.replace?"
   ]
  },
  {
   "cell_type": "code",
   "execution_count": null,
   "metadata": {
    "collapsed": false
   },
   "outputs": [],
   "source": [
    "## manipulating strings is very easy \n",
    "mystr = 'My name is Francesco'\n",
    "\n",
    "## finding the location of a substring\n",
    "print (mystr.find(\"name\"))\n",
    "\n",
    "## changing to uppercase\n",
    "print (mystr.upper())\n",
    "\n",
    "## replacing substrings\n",
    "print (mystr.replace('name','brother'))\n",
    "\n",
    "## these operations do not modify the original string\n",
    "print (mystr)"
   ]
  },
  {
   "cell_type": "code",
   "execution_count": null,
   "metadata": {
    "collapsed": false
   },
   "outputs": [],
   "source": [
    "## we can count the occurrences of a letter\n",
    "print (mystr.count('a'))\n",
    "\n",
    "## note that the string comparison is case sensitive\n",
    "print (\"the letter f occurrs %d times \" % mystr.count('f') )\n",
    "print (\"the letter F occurrs %d times \" % mystr.count('F') )\n",
    "\n"
   ]
  },
  {
   "cell_type": "code",
   "execution_count": null,
   "metadata": {
    "collapsed": false
   },
   "outputs": [],
   "source": [
    "#print mystr \n",
    "#print mystr.replace('name','brother')\n",
    "\n",
    "mystr.lower().count('f')"
   ]
  },
  {
   "cell_type": "code",
   "execution_count": null,
   "metadata": {
    "collapsed": false
   },
   "outputs": [],
   "source": [
    "## string addition and multiplication\n",
    "print (\"Hello, m\" + mystr[1:])\n",
    "\n",
    "print (\"Ciao \" *2 + \", m\" + mystr[1:])"
   ]
  },
  {
   "cell_type": "code",
   "execution_count": null,
   "metadata": {
    "collapsed": false
   },
   "outputs": [],
   "source": [
    "## \"in\" returns a boolean\n",
    "print (\"Fra\" in mystr)\n",
    "print (\"Tim\" in mystr)"
   ]
  },
  {
   "cell_type": "code",
   "execution_count": null,
   "metadata": {
    "collapsed": false
   },
   "outputs": [],
   "source": [
    "## .split() separates fields \n",
    "print (mystr.split())\n",
    "\n",
    "print (mystr.split(\"a\"))"
   ]
  },
  {
   "cell_type": "markdown",
   "metadata": {},
   "source": [
    "## Lists : ordered collections of stuff"
   ]
  },
  {
   "cell_type": "code",
   "execution_count": null,
   "metadata": {
    "collapsed": false
   },
   "outputs": [],
   "source": [
    "## list is an ordered  collection of objects\n",
    "list1 = [ \"Francesco\" , \"Italy\" , True , 6 ]\n",
    "\n",
    "print (len(list1))\n",
    "print (list1)  "
   ]
  },
  {
   "cell_type": "code",
   "execution_count": null,
   "metadata": {
    "collapsed": false
   },
   "outputs": [],
   "source": [
    "list2 = []\n",
    "list2.append(\"Marc\")\n",
    "list2.append(\"Germany\")\n",
    "list2.append(False)\n",
    "list2.append(3)\n",
    "print (list2)"
   ]
  },
  {
   "cell_type": "code",
   "execution_count": null,
   "metadata": {
    "collapsed": false
   },
   "outputs": [],
   "source": [
    "print (list1)\n",
    "print (list1[1]) \n",
    "print (list1[-1]) \n",
    "print (list1 [0:2]) "
   ]
  },
  {
   "cell_type": "code",
   "execution_count": null,
   "metadata": {
    "collapsed": false
   },
   "outputs": [],
   "source": [
    "print (list1.index('Italy'))"
   ]
  },
  {
   "cell_type": "code",
   "execution_count": null,
   "metadata": {
    "collapsed": false
   },
   "outputs": [],
   "source": [
    "## sort() sorts lists in place\n",
    "list1.sort()\n",
    "print (list1)"
   ]
  },
  {
   "cell_type": "code",
   "execution_count": null,
   "metadata": {
    "collapsed": false
   },
   "outputs": [],
   "source": [
    "list1.extend(list2)\n",
    "print (list1)"
   ]
  },
  {
   "cell_type": "code",
   "execution_count": null,
   "metadata": {
    "collapsed": false
   },
   "outputs": [],
   "source": [
    "## \"in\" returns a boolean\n",
    "4 in list2"
   ]
  },
  {
   "cell_type": "markdown",
   "metadata": {},
   "source": [
    "## Programs control flow  : Where Indentation matters!!\n",
    "\n",
    "## if statements :"
   ]
  },
  {
   "cell_type": "raw",
   "metadata": {},
   "source": [
    "## the indentation is used to identfy code blocks.\n",
    "if condition_1 :\n",
    "    do something \n",
    "elif condition_2 :\n",
    "    do something else\n",
    "else :\n",
    "    do something else"
   ]
  },
  {
   "cell_type": "code",
   "execution_count": null,
   "metadata": {
    "collapsed": false
   },
   "outputs": [],
   "source": [
    "I_lived_in = [ \"Italy\" , \"United States\" ]\n",
    "Marc_lived_in = [ \"Germany\" , \"Austria\" , \"United States\" ]\n",
    "#Marc_lived_in = [ \"Germany\" , \"Austria\"]\n",
    "\n",
    "print (\"I lived in %d places and Marc in %d \" % (len(I_lived_in) , len(Marc_lived_in) ))\n",
    "\n",
    "## IMPORTANT : the indentation is used to identfy code blocks.\n",
    "if len(I_lived_in) > len(Marc_lived_in) :\n",
    "    res = \"I lived in lots of places\"\n",
    "    print (res)\n",
    "elif len(I_lived_in) == len(Marc_lived_in) :\n",
    "    print (\"nothing\")\n",
    "else :\n",
    "    print (\"marc is cooler\")\n"
   ]
  },
  {
   "cell_type": "markdown",
   "metadata": {},
   "source": [
    "##for loops:"
   ]
  },
  {
   "cell_type": "raw",
   "metadata": {},
   "source": [
    "for i in some_range:\n",
    "    do something with i\n"
   ]
  },
  {
   "cell_type": "code",
   "execution_count": null,
   "metadata": {
    "collapsed": false
   },
   "outputs": [],
   "source": [
    "## range(i,j) retuns integers beween i and j-1 \n",
    "range(1,11)"
   ]
  },
  {
   "cell_type": "code",
   "execution_count": null,
   "metadata": {
    "collapsed": false
   },
   "outputs": [],
   "source": [
    "## sum of first 10 integers\n",
    "\n",
    "result=0\n",
    "for i in range(1,11):\n",
    "    result+=i\n",
    "    \n",
    "print (result)"
   ]
  },
  {
   "cell_type": "code",
   "execution_count": null,
   "metadata": {
    "collapsed": false
   },
   "outputs": [],
   "source": [
    "shopping_list=[\"bananas\", \"chocolate\", \"carrots\"]"
   ]
  },
  {
   "cell_type": "code",
   "execution_count": null,
   "metadata": {
    "collapsed": false
   },
   "outputs": [],
   "source": [
    "## lists are iterators. \n",
    "## We can automatically loop through list elements without using indexes\n",
    "for thing in shopping_list:\n",
    "    print (\"today I purchased some\" , thing)\n",
    "             "
   ]
  },
  {
   "cell_type": "code",
   "execution_count": null,
   "metadata": {
    "collapsed": false
   },
   "outputs": [],
   "source": [
    "a=\"ciao\"\n",
    "b=\"Jes\"\n",
    "print (a+b)\n",
    "print (a , b )"
   ]
  },
  {
   "cell_type": "markdown",
   "metadata": {},
   "source": [
    "## Other useful buitins : tuples , enumerate and zip :\n"
   ]
  },
  {
   "cell_type": "markdown",
   "metadata": {},
   "source": [
    "###A 'tuple' is an \"immutable list\". Once created cannot be changed."
   ]
  },
  {
   "cell_type": "code",
   "execution_count": null,
   "metadata": {
    "collapsed": false
   },
   "outputs": [],
   "source": [
    "##         Name    Major    Nationality  Glasses?  \n",
    "person = 'John', 'Biology', 'American' , False     # tuple packing \n",
    "\n",
    "print (person)\n",
    "\n",
    "## you can use parenthesis to enclose the tuple, but that's not necessary.\n",
    "person = ('John', 'Biology', 'American' , False )    # tuple packing \n",
    "\n",
    "print (person)"
   ]
  },
  {
   "cell_type": "code",
   "execution_count": null,
   "metadata": {
    "collapsed": false
   },
   "outputs": [],
   "source": [
    "print (person[0:3],person[3])\n",
    "\n",
    "print ( \"name = %s ; major = %s ; nationality = %s \" % person[0:3] )"
   ]
  },
  {
   "cell_type": "code",
   "execution_count": null,
   "metadata": {
    "collapsed": false
   },
   "outputs": [],
   "source": [
    "## the values in a tuple can be ‘unpacked’ into the variables\n",
    "name, subject , nationality  = person[:3]   # tuple unpacking\n",
    "\n",
    "print (\"name = \" , name , \" ; nationality = \", nationality )\n",
    "\n"
   ]
  },
  {
   "cell_type": "code",
   "execution_count": null,
   "metadata": {
    "collapsed": false
   },
   "outputs": [],
   "source": [
    "## single elements of a tuple cannot be changed. The tuple is immutable\n",
    "person[3]=True\n"
   ]
  },
  {
   "cell_type": "code",
   "execution_count": null,
   "metadata": {
    "collapsed": false
   },
   "outputs": [],
   "source": [
    "## We can however reassing the tuple to a new set of values.\n",
    "print (person)\n",
    "person = person[0:3] + (True,)\n",
    "print (person)"
   ]
  },
  {
   "cell_type": "markdown",
   "metadata": {},
   "source": [
    "### In case you need to iterate over element of a list and their index, you can use the builtin 'enumerate' "
   ]
  },
  {
   "cell_type": "code",
   "execution_count": null,
   "metadata": {
    "collapsed": false
   },
   "outputs": [],
   "source": [
    "## in case you need to iterate over element \n",
    "## of a list and their index, you can use the builtin 'enumerate' \n",
    "\n",
    "people = ['John','Fra','Hanna','Camelia']\n",
    "\n",
    "for a in people :\n",
    "    print ( a  )\n",
    "\n",
    "    \n",
    "for a in people :\n",
    "    print ( 'Name ', people.index(a)  , ' is ' ,a )\n"
   ]
  },
  {
   "cell_type": "code",
   "execution_count": null,
   "metadata": {
    "collapsed": false
   },
   "outputs": [],
   "source": [
    "for i,a in enumerate(people) :\n",
    "    print ( 'Name ' , i , ' is ' , a )"
   ]
  },
  {
   "cell_type": "code",
   "execution_count": null,
   "metadata": {
    "collapsed": true
   },
   "outputs": [],
   "source": [
    "a=enumerate(people)"
   ]
  },
  {
   "cell_type": "code",
   "execution_count": null,
   "metadata": {
    "collapsed": false
   },
   "outputs": [],
   "source": [
    "print (a.next())"
   ]
  },
  {
   "cell_type": "code",
   "execution_count": null,
   "metadata": {
    "collapsed": true
   },
   "outputs": [],
   "source": []
  },
  {
   "cell_type": "markdown",
   "metadata": {},
   "source": [
    "###The builtin 'zip' can be used to combine elements of multuple lists into a list of tuples."
   ]
  },
  {
   "cell_type": "code",
   "execution_count": null,
   "metadata": {
    "collapsed": false
   },
   "outputs": [],
   "source": [
    "people     = ['John'   ,'Fra'    ,'Hanna'    ,'Camelia']\n",
    "major      = ['Biology','Physics','Chemistry','Biochemistry']\n",
    "has_glasses= [  True   , True    , False     , False]\n",
    "\n",
    "zip(people,major,has_glasses)"
   ]
  },
  {
   "cell_type": "code",
   "execution_count": null,
   "metadata": {
    "collapsed": false
   },
   "outputs": [],
   "source": [
    "## zip is very convenient to 'connect' lists for example inside for loops.\n",
    "for a,b,c in zip(people,major,has_glasses):\n",
    "    print (  a + \" studies \" + b + \" and \"  +  ( \" wears \" if c else \" doesn't wear \" )  + \"glasses\" )"
   ]
  },
  {
   "cell_type": "code",
   "execution_count": null,
   "metadata": {
    "collapsed": true
   },
   "outputs": [],
   "source": []
  },
  {
   "cell_type": "markdown",
   "metadata": {},
   "source": [
    "## How to define your own functions\n"
   ]
  },
  {
   "cell_type": "code",
   "execution_count": null,
   "metadata": {
    "collapsed": false
   },
   "outputs": [],
   "source": [
    "## let's introduce a simple funtion \n",
    "\n",
    "def myfunction(x):\n",
    "    return x*5\n",
    "\n",
    "## let's test our function\n",
    "y=myfunction(3.5)\n",
    "print (y)\n",
    "\n"
   ]
  },
  {
   "cell_type": "code",
   "execution_count": null,
   "metadata": {
    "collapsed": false
   },
   "outputs": [],
   "source": [
    "## note that the argument of the function can be anything that makes sense to python\n",
    "y=myfunction(\"Hello \")\n",
    "print (y)\n"
   ]
  },
  {
   "cell_type": "markdown",
   "metadata": {},
   "source": [
    "## Simple file operations:\n",
    "We will illustrate simple file operations with the following exercise:\n",
    "\n",
    "* The files text1.txt and text2.txt contains the full text of the novel \"Le Petite Prince\" translated in two languages.\n",
    "* first open the files and read in the text\n",
    "* then compute the frequency of letters in the text \n",
    "* write an output file \"frequencies.txt\" containing the letter frequencies.\n",
    "* generate a bar plot for the frequencies and compare them with a reference one for the english language that you can find on Wikipedia https://en.wikipedia.org/wiki/Letter_frequency . Can we recognize which of the two files contains the text in English?"
   ]
  },
  {
   "cell_type": "code",
   "execution_count": null,
   "metadata": {
    "collapsed": false
   },
   "outputs": [],
   "source": [
    "## you can use some basic linux commands as long as they are the only thing in the cell :"
   ]
  },
  {
   "cell_type": "code",
   "execution_count": null,
   "metadata": {
    "collapsed": false
   },
   "outputs": [],
   "source": [
    "## Make sure that the present working directory is the working folder where you downloaded the example files."
   ]
  },
  {
   "cell_type": "code",
   "execution_count": null,
   "metadata": {
    "collapsed": false
   },
   "outputs": [],
   "source": [
    "pwd"
   ]
  },
  {
   "cell_type": "code",
   "execution_count": null,
   "metadata": {
    "collapsed": false
   },
   "outputs": [],
   "source": [
    "ls"
   ]
  },
  {
   "cell_type": "code",
   "execution_count": null,
   "metadata": {
    "collapsed": false
   },
   "outputs": [],
   "source": [
    "## if you are not in the same folder where your downloaded files were, please go in there:"
   ]
  },
  {
   "cell_type": "code",
   "execution_count": null,
   "metadata": {
    "collapsed": false
   },
   "outputs": [],
   "source": [
    "##cd 'c:\\\\Users\\\\your_user\\\\correct_folder\\'"
   ]
  },
  {
   "cell_type": "code",
   "execution_count": null,
   "metadata": {
    "collapsed": false
   },
   "outputs": [],
   "source": [
    "cat simple_text.txt"
   ]
  },
  {
   "cell_type": "code",
   "execution_count": null,
   "metadata": {
    "collapsed": false
   },
   "outputs": [],
   "source": [
    "## we open the file \n",
    "filename='simple_text.txt'\n",
    "try:\n",
    "    myfile = file(filename)\n",
    "except IOError:                     \n",
    "    print (\"Cannot open file %s \" % filename)"
   ]
  },
  {
   "cell_type": "code",
   "execution_count": null,
   "metadata": {
    "collapsed": false
   },
   "outputs": [],
   "source": [
    "## let's read a line \n",
    "a=myfile.readline()\n",
    "print (a)"
   ]
  },
  {
   "cell_type": "code",
   "execution_count": null,
   "metadata": {
    "collapsed": false
   },
   "outputs": [],
   "source": [
    "## \"rewind\" the file\n",
    "myfile.seek(0)"
   ]
  },
  {
   "cell_type": "code",
   "execution_count": null,
   "metadata": {
    "collapsed": false
   },
   "outputs": [],
   "source": [
    "help(myfile.read)"
   ]
  },
  {
   "cell_type": "code",
   "execution_count": null,
   "metadata": {
    "collapsed": true
   },
   "outputs": [],
   "source": [
    "## we can read in the whole file with 'read'\n",
    "mytext=myfile.read()"
   ]
  },
  {
   "cell_type": "code",
   "execution_count": null,
   "metadata": {
    "collapsed": false
   },
   "outputs": [],
   "source": [
    "mytext[:60]\n"
   ]
  },
  {
   "cell_type": "code",
   "execution_count": null,
   "metadata": {
    "collapsed": false,
    "scrolled": false
   },
   "outputs": [],
   "source": [
    "## using the method replace we can remove newlines and returns\n",
    "mytext=mytext.replace('\\n', ' ').replace('\\r', ' ')"
   ]
  },
  {
   "cell_type": "code",
   "execution_count": null,
   "metadata": {
    "collapsed": false
   },
   "outputs": [],
   "source": [
    "print(mytext)"
   ]
  },
  {
   "cell_type": "code",
   "execution_count": null,
   "metadata": {
    "collapsed": true
   },
   "outputs": [],
   "source": []
  },
  {
   "cell_type": "code",
   "execution_count": null,
   "metadata": {
    "collapsed": true
   },
   "outputs": [],
   "source": []
  },
  {
   "cell_type": "code",
   "execution_count": null,
   "metadata": {
    "collapsed": false
   },
   "outputs": [],
   "source": [
    "## define the filename we would like to process\n",
    "filename='text1.txt'\n",
    "\n",
    "## try to open the file\n",
    "try:\n",
    "    myfile = file(filename)\n",
    "except IOError:                     \n",
    "    print (\"Cannot open file %s \" % filename)\n",
    "\n",
    "## read in the text and remove the newline character   \n",
    "mytext=myfile.read().replace('\\n', ' ').replace('\\r', ' ')\n",
    "    \n",
    "alphabet_letters = [\"a\",\"b\",\"c\",\"d\",\"e\",\"f\",\"g\",\"h\",\"i\",\"j\",\"k\",\"l\",\"m\",\"n\",\"o\",\"p\",\"q\",\"r\",\"s\",\"t\",\"u\",\"v\",\"w\",\"x\",\"y\",\"z\"]\n",
    "\n",
    "## start with an empty list\n",
    "frequencies = []\n",
    "\n",
    "## create the list of frequencies counting the occurrence of each letter\n",
    "for i in alphabet_letters :    \n",
    "    frequencies.append(mytext.lower().count(i))\n",
    "\n",
    "## normalize     \n",
    "frequencies = ([ x / (sum(frequencies)*1.) for x in frequencies  ])\n",
    "\n",
    "print(frequencies)\n"
   ]
  },
  {
   "cell_type": "code",
   "execution_count": null,
   "metadata": {
    "collapsed": false
   },
   "outputs": [],
   "source": [
    "#del mytext\n",
    "#del myfile"
   ]
  },
  {
   "cell_type": "code",
   "execution_count": null,
   "metadata": {
    "collapsed": true
   },
   "outputs": [],
   "source": [
    "## we are only doing it for 2 files, but in case we want to reuse this , it makes sense to define a function that \n",
    "## takes as input the filename and returns the frequencies.\n",
    "\n",
    "def count_letters(myfilename):\n",
    "    try:\n",
    "        myfile = file(myfilename)\n",
    "    except IOError:                     \n",
    "        print (\"Cannot open file %s \" % myfilename)\n",
    "        return []\n",
    "        \n",
    "    alphabet_letters = [\"a\",\"b\",\"c\",\"d\",\"e\",\"f\",\"g\",\"h\",\"i\",\"j\",\"k\",\"l\",\"m\",\"n\",\"o\",\"p\",\"q\",\"r\",\"s\",\"t\",\"u\",\"v\",\"w\",\"x\",\"y\",\"z\"]\n",
    "\n",
    "    frequencies = []\n",
    "    \n",
    "    mytext=myfile.read().replace('\\n', ' ').replace('\\r', ' ')\n",
    "\n",
    "    for i in alphabet_letters :    \n",
    "        frequencies.append(mytext.lower().count(i))\n",
    "\n",
    "    fr = ([ x / (sum(frequencies)*1.) for x in frequencies  ])\n",
    "    \n",
    "    return fr\n"
   ]
  },
  {
   "cell_type": "code",
   "execution_count": null,
   "metadata": {
    "collapsed": false
   },
   "outputs": [],
   "source": [
    "## we can now call the function just defined with the two different filenames as input\n",
    "lett_freq = count_letters('text2.txt')\n",
    "\n",
    "print (lett_freq ,sum(lett_freq))"
   ]
  },
  {
   "cell_type": "code",
   "execution_count": null,
   "metadata": {
    "collapsed": false
   },
   "outputs": [],
   "source": [
    "alphabet_letters = [\"a\",\"b\",\"c\",\"d\",\"e\",\"f\",\"g\",\"h\",\"i\",\"j\",\"k\",\"l\",\"m\",\"n\",\"o\",\"p\",\"q\",\"r\",\"s\",\"t\",\"u\",\"v\",\"w\",\"x\",\"y\",\"z\"]\n",
    "\n",
    "first_language=count_letters('text1.txt')\n",
    "second_language=count_letters('text2.txt')\n",
    "\n",
    "print(first_language)\n",
    "print(second_language)"
   ]
  },
  {
   "cell_type": "code",
   "execution_count": null,
   "metadata": {
    "collapsed": false
   },
   "outputs": [],
   "source": [
    "#print  (zip(alphabet_letters,first_language,second_language))"
   ]
  },
  {
   "cell_type": "code",
   "execution_count": null,
   "metadata": {
    "collapsed": false
   },
   "outputs": [],
   "source": [
    "## we can open a file and write the results \n",
    "myoutfile = open('Letter_frequency.txt', 'w')\n",
    "\n",
    "for a in zip(alphabet_letters,first_language,second_language):\n",
    "    myoutfile.write('%s\\t%lf\\t%lf\\n'% a)\n",
    "    \n",
    "myoutfile.close()"
   ]
  },
  {
   "cell_type": "code",
   "execution_count": null,
   "metadata": {
    "collapsed": false
   },
   "outputs": [],
   "source": [
    "cat Letter_frequency.txt"
   ]
  },
  {
   "cell_type": "code",
   "execution_count": null,
   "metadata": {
    "collapsed": false
   },
   "outputs": [],
   "source": [
    "ls"
   ]
  },
  {
   "cell_type": "code",
   "execution_count": null,
   "metadata": {
    "collapsed": true
   },
   "outputs": [],
   "source": []
  },
  {
   "cell_type": "code",
   "execution_count": null,
   "metadata": {
    "collapsed": true
   },
   "outputs": [],
   "source": [
    "%matplotlib inline\n",
    "\n",
    "import matplotlib\n",
    "import numpy as np\n",
    "import matplotlib.pyplot as plt"
   ]
  },
  {
   "cell_type": "code",
   "execution_count": null,
   "metadata": {
    "collapsed": false
   },
   "outputs": [],
   "source": [
    "plt.rcParams['figure.figsize'] = 12,12"
   ]
  },
  {
   "cell_type": "code",
   "execution_count": null,
   "metadata": {
    "collapsed": false
   },
   "outputs": [],
   "source": [
    "## We will now plot using some of the plotting functionality provided by matplotlib \n",
    "fig, axes = plt.subplots(nrows=2)\n",
    "names = ['Language 1', 'Language 2']\n",
    "x = np.arange(len(first_language))\n",
    "\n",
    "## create an histogram\n",
    "for ax, freq, name in zip(axes, [first_language,second_language], names):\n",
    "    ax.bar(x, freq )\n",
    "    ax.set(xticks=x+0.5, title=name)\n",
    "    ax.set_xlim([0,26])\n",
    "    ax.set_xticklabels(alphabet_letters)"
   ]
  },
  {
   "cell_type": "markdown",
   "metadata": {},
   "source": [
    "###Which one is English?  https://en.wikipedia.org/wiki/Letter_frequency"
   ]
  },
  {
   "cell_type": "code",
   "execution_count": null,
   "metadata": {
    "collapsed": true
   },
   "outputs": [],
   "source": []
  },
  {
   "cell_type": "markdown",
   "metadata": {},
   "source": [
    "### A supercool data structure in python are  'dictionaries' \n"
   ]
  },
  {
   "cell_type": "code",
   "execution_count": null,
   "metadata": {
    "collapsed": true
   },
   "outputs": [],
   "source": [
    "## people       'John'   ,'Fra'    ,'Hanna'    ,'Camelia'\n",
    "## major      'Biology','Physics','Chemistry','Biochemistry'\n",
    "\n",
    "## a dictionary is composed by pairs of \"keys\" : \" values\" \n",
    "my_dictionary = {'John':'Biology' , 'Fra':'Physics' ,'Hanna': 'Chemistry' ,'Camelia': 'Biochemistry'}"
   ]
  },
  {
   "cell_type": "code",
   "execution_count": null,
   "metadata": {
    "collapsed": false
   },
   "outputs": [],
   "source": [
    "print (my_dictionary)"
   ]
  },
  {
   "cell_type": "code",
   "execution_count": null,
   "metadata": {
    "collapsed": false
   },
   "outputs": [],
   "source": [
    "print (  \"the keys are \" , my_dictionary.keys())\n",
    "print ( \"the values are \" , my_dictionary.values() )"
   ]
  },
  {
   "cell_type": "code",
   "execution_count": null,
   "metadata": {
    "collapsed": false
   },
   "outputs": [],
   "source": [
    "## you can extract the \"value\" addressing the corresponding \"key\"\n",
    "print (my_dictionary['Camelia'])"
   ]
  },
  {
   "cell_type": "code",
   "execution_count": null,
   "metadata": {
    "collapsed": false
   },
   "outputs": [],
   "source": [
    "## another way for building a dictionary is to start from an empty one and fill in the entries.\n",
    "\n",
    "my_dictionary = {}\n",
    "my_dictionary['Hanna'] = 'Chemistry'\n",
    "my_dictionary['John'] = 'Biology'\n",
    "\n",
    "print (my_dictionary)"
   ]
  },
  {
   "cell_type": "code",
   "execution_count": null,
   "metadata": {
    "collapsed": false
   },
   "outputs": [],
   "source": [
    "print (my_dictionary['John'])"
   ]
  },
  {
   "cell_type": "code",
   "execution_count": null,
   "metadata": {
    "collapsed": false
   },
   "outputs": [],
   "source": [
    "## a dictionary can be created from a list of tuples\n",
    "## in this simple case a list with just one tuple\n",
    "mylist_tuple = [('Fra', 'Physics')]\n",
    "print (mylist_tuple)\n",
    "\n",
    "##use the keyword 'dict' to convert that list into a dictionary.\n",
    "mydict = dict(mylist_tuple)\n",
    "print(mydict['Fra'])"
   ]
  },
  {
   "cell_type": "markdown",
   "metadata": {},
   "source": [
    "###How can we use a dictionary to makes our life simpler when searching the results in the \"language\" example?"
   ]
  },
  {
   "cell_type": "code",
   "execution_count": null,
   "metadata": {
    "collapsed": false
   },
   "outputs": [],
   "source": [
    "letters_freq = dict(zip(alphabet_letters , first_language,  ) )"
   ]
  },
  {
   "cell_type": "code",
   "execution_count": null,
   "metadata": {
    "collapsed": false
   },
   "outputs": [],
   "source": [
    "letters_freq['a']"
   ]
  },
  {
   "cell_type": "code",
   "execution_count": null,
   "metadata": {
    "collapsed": false
   },
   "outputs": [],
   "source": [
    "letters_freq = dict(zip(alphabet_letters ,[ [ x,y ]for x ,y  in zip(first_language, second_language) ] ) )"
   ]
  },
  {
   "cell_type": "code",
   "execution_count": null,
   "metadata": {
    "collapsed": false
   },
   "outputs": [],
   "source": [
    "letters_freq['a']"
   ]
  },
  {
   "cell_type": "code",
   "execution_count": null,
   "metadata": {
    "collapsed": true
   },
   "outputs": [],
   "source": []
  },
  {
   "cell_type": "code",
   "execution_count": null,
   "metadata": {
    "collapsed": true
   },
   "outputs": [],
   "source": []
  },
  {
   "cell_type": "code",
   "execution_count": null,
   "metadata": {
    "collapsed": true
   },
   "outputs": [],
   "source": []
  },
  {
   "cell_type": "code",
   "execution_count": null,
   "metadata": {
    "collapsed": false
   },
   "outputs": [],
   "source": [
    "pwd"
   ]
  },
  {
   "cell_type": "code",
   "execution_count": null,
   "metadata": {
    "collapsed": false
   },
   "outputs": [],
   "source": [
    "%pprint"
   ]
  },
  {
   "cell_type": "code",
   "execution_count": null,
   "metadata": {
    "collapsed": false
   },
   "outputs": [],
   "source": [
    "%reset"
   ]
  },
  {
   "cell_type": "code",
   "execution_count": null,
   "metadata": {
    "collapsed": false
   },
   "outputs": [],
   "source": []
  }
 ],
 "metadata": {
  "kernelspec": {
   "display_name": "Python 2",
   "language": "python",
   "name": "python2"
  },
  "language_info": {
   "codemirror_mode": {
    "name": "ipython",
    "version": 2
   },
   "file_extension": ".py",
   "mimetype": "text/x-python",
   "name": "python",
   "nbconvert_exporter": "python",
   "pygments_lexer": "ipython2",
   "version": "2.7.10"
  }
 },
 "nbformat": 4,
 "nbformat_minor": 0
}
