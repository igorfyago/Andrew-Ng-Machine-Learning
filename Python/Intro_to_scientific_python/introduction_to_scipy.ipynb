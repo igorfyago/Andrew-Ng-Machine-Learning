{
 "cells": [
  {
   "cell_type": "markdown",
   "metadata": {},
   "source": [
    "#Introduction to Scientific Python - `scipy` \n",
    "##Scipy is a software stack built to support efficient scientific computation in Python.\n",
    "##The fundamental  components of the ecosystem are `numpy` and `matplotlib`.\n",
    "\n",
    "you can refer to the official [Scipy website](http://www.scipy.org) for updates and full documentation."
   ]
  },
  {
   "cell_type": "markdown",
   "metadata": {},
   "source": [
    "###The basic components of the ecosystem are :\n",
    "* Numpy        : provides the fundamental array datastructure\n",
    "* Matplotlib   : provides visualization functionalities\n",
    "* Scipy        : algorithms  \n",
    "* IPython\n",
    "\n",
    "####Additional more specialized packages are \n",
    "* Pandas         : convenient data structures for data analysis\n",
    "* Sympy          : symbolic math\n",
    "* Scikits-Learn  : tools for machine learning and data mining\n",
    "* PyTables       : tools for managing hierarchical datasets and large amount of data \n",
    "* Numba          : decorations and annotations for enabling jit compilation of computationally intensive code\n",
    "* Cython         : interfacing C/C++ python \n",
    "* .....  many other tools out there."
   ]
  },
  {
   "cell_type": "code",
   "execution_count": null,
   "metadata": {
    "collapsed": false
   },
   "outputs": [],
   "source": [
    "from IPython.display import Image\n",
    "Image(filename='Images/ecosystem.png')"
   ]
  },
  {
   "cell_type": "code",
   "execution_count": null,
   "metadata": {
    "collapsed": true
   },
   "outputs": [],
   "source": [
    "# to ensure python2 - python3 portability :\n",
    "from __future__ import print_function, division"
   ]
  },
  {
   "cell_type": "markdown",
   "metadata": {},
   "source": [
    "### Let's pay observe some basic limits of the standard python data structures"
   ]
  },
  {
   "cell_type": "code",
   "execution_count": null,
   "metadata": {
    "collapsed": false
   },
   "outputs": [],
   "source": [
    "## Lists are cool, but they are not really ideal for representing vectors in scientific calculations\n",
    "v1 = range(1,10,1)\n",
    "v1"
   ]
  },
  {
   "cell_type": "code",
   "execution_count": null,
   "metadata": {
    "collapsed": false
   },
   "outputs": [],
   "source": [
    "## we cannot easily build an array of floats\n",
    "v1 = range(1,20,0.5)"
   ]
  },
  {
   "cell_type": "code",
   "execution_count": null,
   "metadata": {
    "collapsed": false
   },
   "outputs": [],
   "source": [
    "## the way python deals with summing two lists is not really what we want\n",
    "v2 = range(10,20,1)\n",
    "print ( v1, v2 )\n",
    "print ( v1+v2 )  "
   ]
  },
  {
   "cell_type": "code",
   "execution_count": null,
   "metadata": {
    "collapsed": false
   },
   "outputs": [],
   "source": [
    "## how do we compute a math operation element-by-element on all elements of a vector?\n",
    "## for example we could use list comprehension\n",
    "v_sqr = [i**2 for i in v1 ]\n",
    "print (v_sqr)\n",
    "\n",
    "## or a map \n",
    "v_sqr = map( lambda x : x**2 ,v1)\n",
    "print (v_sqr)"
   ]
  },
  {
   "cell_type": "markdown",
   "metadata": {},
   "source": [
    "These are good options, but the performance is not great"
   ]
  },
  {
   "cell_type": "code",
   "execution_count": null,
   "metadata": {
    "collapsed": true
   },
   "outputs": [],
   "source": [
    "v1 = range(1,1000)"
   ]
  },
  {
   "cell_type": "code",
   "execution_count": null,
   "metadata": {
    "collapsed": false
   },
   "outputs": [],
   "source": [
    "%timeit -q -o [i**2 for i in v1]"
   ]
  },
  {
   "cell_type": "code",
   "execution_count": null,
   "metadata": {
    "collapsed": false
   },
   "outputs": [],
   "source": [
    "%timeit -q -o map( lambda x : x**2 ,v1)"
   ]
  },
  {
   "cell_type": "markdown",
   "metadata": {},
   "source": [
    "##`Numpy` addresses these problems providing :\n",
    "\n",
    "- ###a numerical array type, suitable for scientific data (vectors, matrices, etc.)\n",
    "- ###vectorized operations for operating on arrays\n"
   ]
  },
  {
   "cell_type": "code",
   "execution_count": null,
   "metadata": {
    "collapsed": true
   },
   "outputs": [],
   "source": [
    "## first import numpy\n",
    "import numpy as np\n"
   ]
  },
  {
   "cell_type": "code",
   "execution_count": null,
   "metadata": {
    "collapsed": false
   },
   "outputs": [],
   "source": [
    "## we can quickly create a float vector\n",
    "v1 = np.arange(1,10,0.1)\n",
    "v1"
   ]
  },
  {
   "cell_type": "code",
   "execution_count": null,
   "metadata": {
    "collapsed": false
   },
   "outputs": [],
   "source": [
    "## this is the new object type introduced in numpy\n",
    "type(v1)"
   ]
  },
  {
   "cell_type": "code",
   "execution_count": null,
   "metadata": {
    "collapsed": false
   },
   "outputs": [],
   "source": [
    "## the data type for our array is \n",
    "v1.dtype"
   ]
  },
  {
   "cell_type": "code",
   "execution_count": null,
   "metadata": {
    "collapsed": false
   },
   "outputs": [],
   "source": [
    "## it's designed to deal with vectors math as we intend it.\n",
    "## sum\n",
    "v1 = np.array([0.,1.,2.,3.])\n",
    "v2 = np.array([10.,11.,12.,13.])\n",
    "v1+v2"
   ]
  },
  {
   "cell_type": "code",
   "execution_count": null,
   "metadata": {
    "collapsed": false
   },
   "outputs": [],
   "source": [
    "## multiplication by a scalar\n",
    "-2* v1"
   ]
  },
  {
   "cell_type": "code",
   "execution_count": null,
   "metadata": {
    "collapsed": false
   },
   "outputs": [],
   "source": [
    "## note that multiplication is elementwise\n",
    "v1 * v2 "
   ]
  },
  {
   "cell_type": "code",
   "execution_count": null,
   "metadata": {
    "collapsed": false
   },
   "outputs": [],
   "source": [
    "## so is **2 \n",
    "v1**2"
   ]
  },
  {
   "cell_type": "code",
   "execution_count": null,
   "metadata": {
    "collapsed": false
   },
   "outputs": [],
   "source": [
    "## is that faster than the list comprehension version we saw earlier?\n",
    "v1 = np.arange(1,1000)"
   ]
  },
  {
   "cell_type": "code",
   "execution_count": null,
   "metadata": {
    "collapsed": false
   },
   "outputs": [],
   "source": [
    "%timeit -q -o   v1**2"
   ]
  },
  {
   "cell_type": "markdown",
   "metadata": {},
   "source": [
    "##Universal functions\n",
    "###The vectorization of the operations is around the concept of \"universal\" functions"
   ]
  },
  {
   "cell_type": "code",
   "execution_count": null,
   "metadata": {
    "collapsed": false
   },
   "outputs": [],
   "source": [
    "np.sin(np.pi/2)"
   ]
  },
  {
   "cell_type": "code",
   "execution_count": null,
   "metadata": {
    "collapsed": false
   },
   "outputs": [],
   "source": [
    "v1 = np.linspace(-2*np.pi,2*np.pi,50)\n",
    "v1"
   ]
  },
  {
   "cell_type": "code",
   "execution_count": null,
   "metadata": {
    "collapsed": false
   },
   "outputs": [],
   "source": [
    "v2 = np.sin(v1)\n",
    "v2"
   ]
  },
  {
   "cell_type": "markdown",
   "metadata": {},
   "source": [
    "`np.sin()` is a  \"universal function\" - `ufunct` - that can operate both on numbers and on arrays.\n",
    "\n",
    "The idea of numpy is that we should think in a vectorized way, always trying to operate in this way on complete arrays as a unit. "
   ]
  },
  {
   "cell_type": "markdown",
   "metadata": {},
   "source": [
    "##`Numpy` provides many functionalities to deal with the nd arrays.\n",
    "There are many methods we can apply to this new datastructure `nd.array`"
   ]
  },
  {
   "cell_type": "code",
   "execution_count": null,
   "metadata": {
    "collapsed": false
   },
   "outputs": [],
   "source": [
    "v1 = np.arange(1,1000)\n",
    "dir(v1)"
   ]
  },
  {
   "cell_type": "code",
   "execution_count": null,
   "metadata": {
    "collapsed": false
   },
   "outputs": [],
   "source": [
    "##for example\n",
    "print ( v1.sum() , v1.min() , v1.mean() , v1.argmax() , v1.shape)"
   ]
  },
  {
   "cell_type": "markdown",
   "metadata": {},
   "source": [
    "###For a few more details on numpy ndarrays check out [this other notebook](numpy_arrays.ipynb)"
   ]
  },
  {
   "cell_type": "markdown",
   "metadata": {},
   "source": [
    "## Visualizing data\n",
    "\n",
    "The other fundamental tool we need is an API to easily visualize data.\n",
    "\n",
    "`matplotlib` is the graphic package part of the `scipy` stack\n",
    "\n",
    "The API was originally inspired by the MATLAB, and the syntax should appear quite friendly to MATLAB users."
   ]
  },
  {
   "cell_type": "code",
   "execution_count": null,
   "metadata": {
    "collapsed": true
   },
   "outputs": [],
   "source": [
    "import matplotlib\n",
    "import numpy as np\n",
    "import matplotlib.pyplot as plt"
   ]
  },
  {
   "cell_type": "code",
   "execution_count": null,
   "metadata": {
    "collapsed": false
   },
   "outputs": [],
   "source": [
    "print(matplotlib.__version__)\n",
    "print(matplotlib.get_backend())"
   ]
  },
  {
   "cell_type": "code",
   "execution_count": null,
   "metadata": {
    "collapsed": true
   },
   "outputs": [],
   "source": [
    "## let's create two simple arrays to plot \n",
    "v1 = np.linspace(-2*np.pi,2*np.pi,50)\n",
    "v2 = np.sin(v1) "
   ]
  },
  {
   "cell_type": "code",
   "execution_count": null,
   "metadata": {
    "collapsed": false
   },
   "outputs": [],
   "source": [
    "## the most basic way of displaying data is use the function plot.\n",
    "plt.plot(v1,v2)"
   ]
  },
  {
   "cell_type": "markdown",
   "metadata": {},
   "source": [
    "Unfortunately you realized you cannot see the plot yet .....<br>\n",
    "Matplotlib created the object but it has not been rendered yet.<br>\n",
    "To display the plot you need to use the command show()."
   ]
  },
  {
   "cell_type": "code",
   "execution_count": null,
   "metadata": {
    "collapsed": true
   },
   "outputs": [],
   "source": [
    "plt.show()"
   ]
  },
  {
   "cell_type": "markdown",
   "metadata": {
    "collapsed": true
   },
   "source": [
    ".... look for the plot. it is probably in a small window in the backgrownd.....<br>\n",
    "To procede using the notebook you need to close the plot.\n",
    ".... not extremely convenient ... but luckily "
   ]
  },
  {
   "cell_type": "markdown",
   "metadata": {},
   "source": [
    "###We can have the plot embedded in the notebook using the \"magic\" command\n",
    "####%matplotlib inline"
   ]
  },
  {
   "cell_type": "code",
   "execution_count": null,
   "metadata": {
    "collapsed": true
   },
   "outputs": [],
   "source": [
    "%matplotlib inline"
   ]
  },
  {
   "cell_type": "code",
   "execution_count": null,
   "metadata": {
    "collapsed": false
   },
   "outputs": [],
   "source": [
    "## now as soon as the cell is executed, the plot will be displayed in the Output cell.\n",
    "plt.plot(v1,v2)"
   ]
  },
  {
   "cell_type": "code",
   "execution_count": null,
   "metadata": {
    "collapsed": true
   },
   "outputs": [],
   "source": [
    "## similarly to matlab you can tune global parameters, like the figure size\n",
    "plt.rcParams['figure.figsize'] = 8,6"
   ]
  },
  {
   "cell_type": "code",
   "execution_count": null,
   "metadata": {
    "collapsed": false
   },
   "outputs": [],
   "source": [
    "##try to replot \n",
    "plt.plot(v1,v2)"
   ]
  },
  {
   "cell_type": "code",
   "execution_count": null,
   "metadata": {
    "collapsed": false
   },
   "outputs": [],
   "source": [
    "## if you want to plot multiple dataseries on the same plot, \n",
    "## just issue multiple plot commands before issuing the show() command.\n",
    "## .... in our case, just put multiple plot commands in the same cell.\n",
    "\n",
    "plt.plot(v1, np.sin(v1), \"o\" , label=\"sin(x)\")\n",
    "plt.plot(v1, np.cos(v1), \"--x\", label=\"cos(x)\")\n",
    "plt.xlabel(\"x\", size=20)\n",
    "plt.ylabel(\"circular functions\", size=20)\n",
    "plt.legend(loc=(1.1 ,0.7 ) , fontsize='xx-large')\n"
   ]
  },
  {
   "cell_type": "markdown",
   "metadata": {},
   "source": [
    "Let's try to understand how the graphic output is structured. <br><br>\n",
    "\n",
    "<img src=\"images/figure_axes_axis_labeled.png\" , width=600, align=center >\n",
    "\n",
    "####The ``Figure`` is the main container. \n",
    "You can think of it as the window that is created when you say plt.show(), or a page if you save your figure to a pdf file. \n",
    "<br>\n",
    "####The real plot happens in an ``Axes``, which is the effective plotting area.<br>\n",
    "For example if you want to create a page with multiple panels, typically each panel will be a different ``Axes`` in the same ``Figure``.\n",
    "<br>\n",
    "####There are many ways to create ``Axes``. The most useful is calling the method ``subplots``.\n",
    "<br>\n",
    "\n"
   ]
  },
  {
   "cell_type": "code",
   "execution_count": null,
   "metadata": {
    "collapsed": false
   },
   "outputs": [],
   "source": [
    "##create a figure \n",
    "fig = plt.figure()\n",
    "## add one subplot .... MATLAB users should recognize this \n",
    "ax = fig.add_subplot(111) \n",
    "print (type(ax))\n",
    "### add_subplot(ABC) adds subplot C to a grid of AxB subplots\n",
    "\n",
    "##set some features, like title, axis ranges, labels....\n",
    "ax.set(xlim=[0.5, 4.5], ylim=[-2, 8], title='An example empty plot', ylabel='Y-Axis', xlabel='X-Axis')\n"
   ]
  },
  {
   "cell_type": "code",
   "execution_count": null,
   "metadata": {
    "collapsed": false
   },
   "outputs": [],
   "source": [
    "### let's plot sin(x) and cos(x) in two different subplots organized vertically\n",
    "## create one figure\n",
    "fig = plt.figure()\n",
    "\n",
    "## create the first Axes using subplot\n",
    "ax = fig.add_subplot(211)\n",
    "ax.set_title('Plot number 1')\n",
    "ax.set_ylabel('cos(x)')\n",
    "ax.plot(v1,np.cos(v1))\n",
    "\n",
    "## and now add the second one\n",
    "ax = fig.add_subplot(212)\n",
    "ax.set_title('Plot number 2', fontsize=24)\n",
    "ax.set_ylabel('sin(x)')\n",
    "ax.plot(v1,np.sin(v1))\n",
    "\n",
    "## this is a useful tool to make sure that when the fiugure gets rendered, \n",
    "## Matplotlib tries to rearrange the layout to avoid overlaps \n",
    "plt.tight_layout()"
   ]
  },
  {
   "cell_type": "code",
   "execution_count": null,
   "metadata": {
    "collapsed": false
   },
   "outputs": [],
   "source": [
    "## we can do similarly a grid of 2 subplots with an horizontal layout \n",
    "\n",
    "## we can tune the aspect ratio to make it look better.\n",
    "fig = plt.figure(figsize=plt.figaspect(0.25))\n",
    "\n",
    "ax = fig.add_subplot(121)\n",
    "ax.set_title('Plot number 1')\n",
    "ax.set_ylabel('cos(x)')\n",
    "ax.plot(v1,np.cos(v1))\n",
    "\n",
    "ax = fig.add_subplot(122)\n",
    "ax.set_title('Plot number 2')\n",
    "ax.set_ylabel('sin(x)')\n",
    "ax.plot(v1,np.sin(v1))"
   ]
  },
  {
   "cell_type": "code",
   "execution_count": null,
   "metadata": {
    "collapsed": false
   },
   "outputs": [],
   "source": [
    "## if we want to create many subplots the best is to use the method subplots, \n",
    "## the ndarray with the axes objects  \n",
    "fig, axes = plt.subplots(nrows=4)\n",
    "print ( type(axes) )\n",
    "axes"
   ]
  },
  {
   "cell_type": "code",
   "execution_count": null,
   "metadata": {
    "collapsed": false
   },
   "outputs": [],
   "source": [
    "## create the grid\n",
    "fig, axes = plt.subplots(nrows=4)\n",
    "\n",
    "## draw a plot in each of the Axes\n",
    "for i,ax in enumerate(axes):\n",
    "    ax.plot(v1,np.sin(i * np.pi/4 + v1))\n",
    "    ax.set_title('plot number %d'%i)\n",
    "\n",
    "plt.tight_layout()\n"
   ]
  },
  {
   "cell_type": "code",
   "execution_count": null,
   "metadata": {
    "collapsed": false
   },
   "outputs": [],
   "source": [
    "## we can extend the same concept to a 2d grid of plots \n",
    "fig, axes = plt.subplots(nrows=4,ncols=4,figsize=plt.figaspect(0.5))\n",
    "for i,axs in enumerate(axes):\n",
    "    for j,ax in enumerate(axs) : \n",
    "        ax.plot( v1, np.sin( ( i*4+j)* np.pi/16 + v1), 'r--o')\n",
    "        ax.set_title('plot number %d , %d' % (i,j)) \n",
    "    \n",
    "plt.tight_layout()\n",
    "\n",
    "## we can export the current figure using the method savefig()\n",
    "plt.savefig(\"multiplot.pdf\")"
   ]
  },
  {
   "cell_type": "markdown",
   "metadata": {},
   "source": [
    "### There are a variety of ploting methods for displaying data. \n",
    "\n",
    "The best source of information is the \"gallery\" on the [matplotlib website](http://matplotlib.org/gallery.html).\n",
    "\n",
    "You can find many examples of plots generated along with the code used to generate them."
   ]
  },
  {
   "cell_type": "code",
   "execution_count": null,
   "metadata": {
    "collapsed": true
   },
   "outputs": [],
   "source": []
  },
  {
   "cell_type": "code",
   "execution_count": null,
   "metadata": {
    "collapsed": false
   },
   "outputs": [],
   "source": [
    "%reset"
   ]
  },
  {
   "cell_type": "code",
   "execution_count": null,
   "metadata": {
    "collapsed": true
   },
   "outputs": [],
   "source": []
  }
 ],
 "metadata": {
  "kernelspec": {
   "display_name": "Python 2",
   "language": "python",
   "name": "python2"
  },
  "language_info": {
   "codemirror_mode": {
    "name": "ipython",
    "version": 2
   },
   "file_extension": ".py",
   "mimetype": "text/x-python",
   "name": "python",
   "nbconvert_exporter": "python",
   "pygments_lexer": "ipython2",
   "version": "2.7.10"
  }
 },
 "nbformat": 4,
 "nbformat_minor": 0
}
