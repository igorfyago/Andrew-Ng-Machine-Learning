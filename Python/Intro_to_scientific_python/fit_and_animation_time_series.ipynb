{
 "cells": [
  {
   "cell_type": "code",
   "execution_count": null,
   "metadata": {
    "collapsed": false
   },
   "outputs": [],
   "source": [
    "%reset\n"
   ]
  },
  {
   "cell_type": "code",
   "execution_count": null,
   "metadata": {
    "collapsed": true
   },
   "outputs": [],
   "source": [
    "from __future__ import print_function"
   ]
  },
  {
   "cell_type": "code",
   "execution_count": null,
   "metadata": {
    "collapsed": true
   },
   "outputs": [],
   "source": [
    "%matplotlib inline\n",
    "\n",
    "import matplotlib\n",
    "import numpy as np\n",
    "import matplotlib.pyplot as plt\n",
    "plt.rcParams['figure.figsize'] = 8,8"
   ]
  },
  {
   "cell_type": "code",
   "execution_count": null,
   "metadata": {
    "collapsed": false
   },
   "outputs": [],
   "source": [
    "## do we remember how to use rand?\n",
    "np.random.rand()"
   ]
  },
  {
   "cell_type": "code",
   "execution_count": null,
   "metadata": {
    "collapsed": false
   },
   "outputs": [],
   "source": [
    "np.random.rand(5)"
   ]
  },
  {
   "cell_type": "code",
   "execution_count": null,
   "metadata": {
    "collapsed": false
   },
   "outputs": [],
   "source": [
    "x  = np.linspace(0, 20, 201)\n",
    "x += 0.5 * ( np.random.rand(len(x))-0.5 ) \n",
    "x.sort()"
   ]
  },
  {
   "cell_type": "code",
   "execution_count": null,
   "metadata": {
    "collapsed": false
   },
   "outputs": [],
   "source": [
    "plt.plot(np.linspace(0, 20, 201),x)"
   ]
  },
  {
   "cell_type": "code",
   "execution_count": null,
   "metadata": {
    "collapsed": false
   },
   "outputs": [],
   "source": [
    "y = np.exp(-0.5*x) + 0.1*np.random.rand(len(x))  + 0.05* np.cos ( x )\n",
    "plt.plot(x,y)"
   ]
  },
  {
   "cell_type": "code",
   "execution_count": null,
   "metadata": {
    "collapsed": true
   },
   "outputs": [],
   "source": [
    "def func(x, a, b, c):\n",
    "    return a * np.exp(-b * x) + c"
   ]
  },
  {
   "cell_type": "code",
   "execution_count": null,
   "metadata": {
    "collapsed": false
   },
   "outputs": [],
   "source": [
    "from scipy.optimize import curve_fit\n",
    "opt_parms, parm_cov = curve_fit(func, x, y,  maxfev=10000)\n",
    "opt_parms"
   ]
  },
  {
   "cell_type": "code",
   "execution_count": null,
   "metadata": {
    "collapsed": false
   },
   "outputs": [],
   "source": [
    "plt.plot(x , y , 'o')\n",
    "A,B,C = opt_parms\n",
    "plt.plot(x,func(x,A,B,C))"
   ]
  },
  {
   "cell_type": "code",
   "execution_count": null,
   "metadata": {
    "collapsed": false
   },
   "outputs": [],
   "source": [
    "def func1(x, a, b, c , d,e ):\n",
    "    return a * np.exp(-b * x) + c + d * np.cos(e*x) "
   ]
  },
  {
   "cell_type": "code",
   "execution_count": null,
   "metadata": {
    "collapsed": false
   },
   "outputs": [],
   "source": [
    "opt_parms1, parm_cov1 = curve_fit(func1, x, y,  maxfev=10000)\n",
    "opt_parms1"
   ]
  },
  {
   "cell_type": "code",
   "execution_count": null,
   "metadata": {
    "collapsed": false
   },
   "outputs": [],
   "source": [
    "plt.plot(x , y , 'o')\n",
    "A,B,C,D,E = opt_parms1\n",
    "plt.plot(x,func1(x,A,B,C,D,E))"
   ]
  },
  {
   "cell_type": "code",
   "execution_count": null,
   "metadata": {
    "collapsed": true
   },
   "outputs": [],
   "source": []
  },
  {
   "cell_type": "code",
   "execution_count": null,
   "metadata": {
    "collapsed": false
   },
   "outputs": [],
   "source": [
    "## Let's generate some syntetic noisy datasets \n",
    "timescales = np.array([0.1,0.2,0.3,0.4,0.5])\n",
    "phase =  np.pi*np.random.rand(len(timescales))\n",
    "y = np.exp(-timescales*(x[:,None])) + 0.1*np.random.rand(len(x),len(timescales)) + 0.05* np.cos ( np.tile(x[:,None],len(timescales)) + phase ) \n",
    "\n",
    "plt.plot(y)"
   ]
  },
  {
   "cell_type": "code",
   "execution_count": null,
   "metadata": {
    "collapsed": false
   },
   "outputs": [],
   "source": [
    "## we can easily save the data in csv\n",
    "np.savetxt(\"exp_decays.csv\", y, delimiter=\",\")"
   ]
  },
  {
   "cell_type": "code",
   "execution_count": null,
   "metadata": {
    "collapsed": false
   },
   "outputs": [],
   "source": [
    "## let's assume those data come from an experiment and we want to read them in\n",
    "timeser = np.genfromtxt(\"exp_decays.csv\", delimiter = ',')\n",
    "timeser"
   ]
  },
  {
   "cell_type": "code",
   "execution_count": null,
   "metadata": {
    "collapsed": false
   },
   "outputs": [],
   "source": [
    "timeser.shape"
   ]
  },
  {
   "cell_type": "code",
   "execution_count": null,
   "metadata": {
    "collapsed": false
   },
   "outputs": [],
   "source": [
    "### we can plot a bunch of bar graphs that we can later join in an animation.\n",
    "\n",
    "import os\n",
    "cwd = os.getcwd()\n",
    "working_folder = os.path.join(cwd, 'time_series_bars')\n",
    "if not os.path.exists(working_folder ):\n",
    "    os.makedirs( working_folder )"
   ]
  },
  {
   "cell_type": "code",
   "execution_count": null,
   "metadata": {
    "collapsed": false
   },
   "outputs": [],
   "source": [
    "## for each timepoint we generate a new file than later you can combine in an animation\n",
    "xbars = np.arange(timeser.shape[1])\n",
    "for t , series  in enumerate(timeser[:50,:]) :\n",
    "    fig = plt.figure()\n",
    "    plt.ylim([0, 1.05])\n",
    "    plt.bar(xbars,series , align='center')\n",
    "    plt.title(\"Time point %d\" %t , fontsize = 24 )\n",
    "    plt.savefig( os.path.join(working_folder, 'timepoint_%s.png' %t) )\n",
    "    plt.close()"
   ]
  },
  {
   "cell_type": "code",
   "execution_count": null,
   "metadata": {
    "collapsed": false
   },
   "outputs": [],
   "source": [
    "ls time_series_bars/"
   ]
  },
  {
   "cell_type": "code",
   "execution_count": null,
   "metadata": {
    "collapsed": false
   },
   "outputs": [],
   "source": [
    "%reset"
   ]
  },
  {
   "cell_type": "code",
   "execution_count": null,
   "metadata": {
    "collapsed": true
   },
   "outputs": [],
   "source": []
  }
 ],
 "metadata": {
  "kernelspec": {
   "display_name": "Python 2",
   "language": "python",
   "name": "python2"
  },
  "language_info": {
   "codemirror_mode": {
    "name": "ipython",
    "version": 2
   },
   "file_extension": ".py",
   "mimetype": "text/x-python",
   "name": "python",
   "nbconvert_exporter": "python",
   "pygments_lexer": "ipython2",
   "version": "2.7.10"
  }
 },
 "nbformat": 4,
 "nbformat_minor": 0
}
