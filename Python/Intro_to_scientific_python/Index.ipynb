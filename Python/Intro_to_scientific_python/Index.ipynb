{
 "cells": [
  {
   "cell_type": "markdown",
   "metadata": {},
   "source": [
    "## During this tutorial we will be discussing a few of the python tools that are typically used in scientific computing \n",
    "\n",
    "- ###[Quick overview of Scipy](introduction_to_scipy.ipynb)\n",
    "- ###[A more in-depth analysis of numpy ndarrays](numpy_arrays.ipynb)\n",
    "- ###[A couple of practical examples](examples.ipynb)"
   ]
  },
  {
   "cell_type": "code",
   "execution_count": null,
   "metadata": {
    "collapsed": true
   },
   "outputs": [],
   "source": []
  }
 ],
 "metadata": {
  "kernelspec": {
   "display_name": "Python 2",
   "language": "python",
   "name": "python2"
  },
  "language_info": {
   "codemirror_mode": {
    "name": "ipython",
    "version": 2
   },
   "file_extension": ".py",
   "mimetype": "text/x-python",
   "name": "python",
   "nbconvert_exporter": "python",
   "pygments_lexer": "ipython2",
   "version": "2.7.10"
  }
 },
 "nbformat": 4,
 "nbformat_minor": 0
}
