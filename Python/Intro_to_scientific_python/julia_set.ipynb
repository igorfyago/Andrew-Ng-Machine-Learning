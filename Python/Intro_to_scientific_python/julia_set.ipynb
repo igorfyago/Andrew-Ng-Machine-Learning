{
 "cells": [
  {
   "cell_type": "markdown",
   "metadata": {},
   "source": [
    "## The Julia set for complex quadratic polynomial \n",
    "\n",
    "####In the following example we will introduce  user defined functions and illustrate a few more functionalities of the notebook, matplotlib and numpy \n",
    "\n",
    "Disclaimer : My dynamical system times are long gone, so let's go for an informal definition of the Julia set.\n",
    "\n",
    "The filled-in Julia set of a complex rational function  $$\\;f(z) = \\frac{P(z)}{Q(z)} $$  is the set of points $z$ so that the $\\|z\\|$ does not tend to Infinity after repetitive iteration of $\\;f(z)$. \n",
    "\n",
    "The Julia set is the boundary of the filled-in set.\n",
    "\n",
    "We want to produce some sort of ( approximate ) visualization of the Julia set for the complex quadratic polynomial $\\;f_c(z) = z^2 + c$, and see how it dramatically changes based on the value of $\\;c$. "
   ]
  },
  {
   "cell_type": "code",
   "execution_count": null,
   "metadata": {
    "collapsed": true
   },
   "outputs": [],
   "source": [
    "from __future__ import print_function , division"
   ]
  },
  {
   "cell_type": "code",
   "execution_count": null,
   "metadata": {
    "collapsed": false
   },
   "outputs": [],
   "source": [
    "import matplotlib\n",
    "import numpy as np\n",
    "import matplotlib.pyplot as plt\n",
    "import warnings\n",
    "warnings.filterwarnings(\"ignore\")"
   ]
  },
  {
   "cell_type": "code",
   "execution_count": null,
   "metadata": {
    "collapsed": true
   },
   "outputs": [],
   "source": [
    "%matplotlib inline"
   ]
  },
  {
   "cell_type": "code",
   "execution_count": null,
   "metadata": {
    "collapsed": false
   },
   "outputs": [],
   "source": [
    "## now, about the Julia set, \n",
    "## first we create a grid of points in the complex plane\n",
    "\n",
    "## linspace generate equally spaced points within the interval specified\n",
    "x = np.linspace(-1.,1.,500)\n",
    "## same thing for the Imaginary dimension\n",
    "y= 1j*x\n",
    "\n",
    "## fill in the complex 2d array\n",
    "z = x[:,np.newaxis]+y\n",
    "\n",
    "### just to be clear, what does that do?\n",
    "#z=np.zeros((len(x),len(y)),dtype=complex)\n",
    "#for i in range(len(x)):\n",
    "#    z[i]=x[i]+y\n",
    "\n",
    "\n"
   ]
  },
  {
   "cell_type": "code",
   "execution_count": null,
   "metadata": {
    "collapsed": false
   },
   "outputs": [],
   "source": [
    "np.shape(z)"
   ]
  },
  {
   "cell_type": "code",
   "execution_count": null,
   "metadata": {
    "collapsed": true
   },
   "outputs": [],
   "source": []
  },
  {
   "cell_type": "markdown",
   "metadata": {},
   "source": [
    "###Now, for each point int the plane we want to iterate the quadratic polynomial function and accumulate a quantity that distinguishes points whose norm will grow indefinitely from the ones which will not\n",
    "\n"
   ]
  },
  {
   "cell_type": "code",
   "execution_count": null,
   "metadata": {
    "collapsed": true
   },
   "outputs": [],
   "source": [
    "## we can define the function that computes a quantity relate to \n",
    "## how fast our points escape from the center of the plane.\n",
    "\n",
    "def  how_far_we_go( z , c , rmax = 4. , itermax=100):\n",
    "    a=np.zeros(np.shape(z))\n",
    "    for n in  range(1,itermax) :\n",
    "        ## we add some quantities only if the norm is larger than rmax\n",
    "        a+=(1./n ) * ( z*np.conj(z) > rmax)\n",
    "        ## and iterate the polynomial\n",
    "        z = z*z + c\n",
    "    return a ;"
   ]
  },
  {
   "cell_type": "code",
   "execution_count": null,
   "metadata": {
    "collapsed": false
   },
   "outputs": [],
   "source": [
    "plt.rcParams['figure.figsize'] = 8, 8 "
   ]
  },
  {
   "cell_type": "code",
   "execution_count": null,
   "metadata": {
    "collapsed": false
   },
   "outputs": [],
   "source": [
    "## select a complex c\n",
    "c=complex(-.06,.67)\n",
    "## let's compute how \"how far we go\" quantity\n",
    "juliaset=how_far_we_go( z , c ,10.,100)\n",
    "## we can simply visualize the result as a colormap\n",
    "plt.imshow(juliaset,cmap='hot')\n",
    "#imshow(juliaset,cmap='cool')\n",
    "\n"
   ]
  },
  {
   "cell_type": "code",
   "execution_count": null,
   "metadata": {
    "collapsed": false
   },
   "outputs": [],
   "source": [
    "# we can now explor what happens with different values of c\n",
    "plt.rcParams['figure.figsize'] = 16,16\n",
    "fig , axes = plt.subplots(nrows=5,ncols=4)\n",
    "i = 0\n",
    "for axs in axes:\n",
    "    for ax in axs:\n",
    "        c=complex(-.06,.64+0.003*i)\n",
    "        juliaset=how_far_we_go( z , c ,10.,50)\n",
    "        ax.imshow(juliaset,cmap='hot')\n",
    "        i+=1\n",
    "\n"
   ]
  },
  {
   "cell_type": "code",
   "execution_count": null,
   "metadata": {
    "collapsed": true
   },
   "outputs": [],
   "source": [
    "import os\n",
    "cwd = os.getcwd()\n",
    "working_folder = os.path.join(cwd, 'julia_set_images')\n",
    "if not os.path.exists(working_folder ):\n",
    "    os.makedirs( working_folder )"
   ]
  },
  {
   "cell_type": "code",
   "execution_count": null,
   "metadata": {
    "collapsed": false
   },
   "outputs": [],
   "source": [
    "## we can save the images as png to look them later.\n",
    "plt.rcParams['figure.figsize'] = 6,6\n",
    "\n",
    "for i in np.arange(20):\n",
    "    c=complex(-.06,.64+0.0015*i)\n",
    "    fig = plt.figure()\n",
    "    juliaset=how_far_we_go( z , c ,10.,50)\n",
    "    plt.imshow(juliaset,cmap='cool')\n",
    "    plt.savefig(os.path.join(working_folder, 'juliaset_%s.png' %i) )\n"
   ]
  },
  {
   "cell_type": "code",
   "execution_count": null,
   "metadata": {
    "collapsed": false
   },
   "outputs": [],
   "source": [
    "%reset"
   ]
  },
  {
   "cell_type": "code",
   "execution_count": null,
   "metadata": {
    "collapsed": true
   },
   "outputs": [],
   "source": []
  }
 ],
 "metadata": {
  "kernelspec": {
   "display_name": "Python 2",
   "language": "python",
   "name": "python2"
  },
  "language_info": {
   "codemirror_mode": {
    "name": "ipython",
    "version": 2
   },
   "file_extension": ".py",
   "mimetype": "text/x-python",
   "name": "python",
   "nbconvert_exporter": "python",
   "pygments_lexer": "ipython2",
   "version": "2.7.10"
  }
 },
 "nbformat": 4,
 "nbformat_minor": 0
}
