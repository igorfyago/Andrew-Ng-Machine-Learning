{
 "cells": [
  {
   "cell_type": "markdown",
   "metadata": {
    "run_control": {
     "frozen": true
    },
    "deletable": false,
    "editable": false,
    "tags": [
     "context"
    ],
    "dc": {
     "key": "13f090f9f0"
    }
   },
   "source": [
    "## 1. Meet Dr. Ignaz Semmelweis\n",
    "<p><img style=\"float: left;margin:5px 20px 5px 1px\" src=\"https://s3.amazonaws.com/assets.datacamp.com/production/project_20/img/ignaz_semmelweis_1860.jpeg\"></p>\n",
    "<!--\n",
    "<img style=\"float: left;margin:5px 20px 5px 1px\" src=\"https://s3.amazonaws.com/assets.datacamp.com/production/project_20/datasets/ignaz_semmelweis_1860.jpeg\">\n",
    "-->\n",
    "<p>This is Dr. Ignaz Semmelweis, a Hungarian physician born in 1818 and active at the Vienna General Hospital. If Dr. Semmelweis looks troubled it's probably because he's thinking about <em>childbed fever</em>: A deadly disease affecting women that just have given birth. He is thinking about it because in the early 1840s at the Vienna General Hospital as many as 10% of the women giving birth die from it. He is thinking about it because he knows the cause of childbed fever: It's the contaminated hands of the doctors delivering the babies. And they won't listen to him and <em>wash their hands</em>!</p>\n",
    "<p>In this notebook, we're going to reanalyze the data that made Semmelweis discover the importance of <em>handwashing</em>. Let's start by looking at the data that made Semmelweis realize that something was wrong with the procedures at Vienna General Hospital.</p>"
   ]
  },
  {
   "cell_type": "code",
   "execution_count": 2,
   "metadata": {
    "dc": {
     "key": "13f090f9f0"
    },
    "collapsed": true,
    "trusted": true,
    "tags": [
     "sample_code"
    ]
   },
   "outputs": [],
   "source": [
    "# importing modules\n",
    "# ... YOUR CODE FOR TASK 1 ...\n",
    "\n",
    "# Read datasets/yearly_deaths_by_clinic.csv into yearly\n",
    "yearly = ...\n",
    "\n",
    "# Print out yearly\n",
    "# ... YOUR CODE FOR TASK 1 ..."
   ]
  },
  {
   "cell_type": "code",
   "execution_count": 1,
   "metadata": {
    "dc": {
     "key": "13f090f9f0"
    },
    "hide": true,
    "trusted": true,
    "tags": [
     "tests"
    ]
   },
   "outputs": [],
   "source": [
    "import pandas as pd\n",
    "\n",
    "def test_yearly_exists():\n",
    "    assert \"yearly\" in globals(), \\\n",
    "        \"The variable yearly should be defined.\"\n",
    "        \n",
    "def test_yearly_correctly_loaded():\n",
    "    correct_yearly = pd.read_csv(\"datasets/yearly_deaths_by_clinic.csv\")\n",
    "    try:\n",
    "        pd.testing.assert_frame_equal(yearly, correct_yearly)\n",
    "    except AssertionError:\n",
    "        assert False, \"The variable yearly should contain the data in yearly_deaths_by_clinic.csv\"\n",
    "        "
   ]
  },
  {
   "cell_type": "markdown",
   "metadata": {
    "run_control": {
     "frozen": true
    },
    "deletable": false,
    "editable": false,
    "tags": [
     "context"
    ],
    "dc": {
     "key": "45ea098e15"
    }
   },
   "source": [
    "## 2. The alarming number of deaths\n",
    "<p>The table above shows the number of women giving birth at the two clinics at the Vienna General Hospital for the years 1841 to 1846. You'll notice that giving birth was very dangerous; an <em>alarming</em> number of women died as the result of childbirth, most of them from childbed fever.</p>\n",
    "<p>We see this more clearly if we look at the <em>proportion of deaths</em> out of the number of women giving birth. Let's zoom in on the proportion of deaths at Clinic 1.</p>"
   ]
  },
  {
   "cell_type": "code",
   "execution_count": 4,
   "metadata": {
    "dc": {
     "key": "45ea098e15"
    },
    "collapsed": true,
    "trusted": true,
    "tags": [
     "sample_code"
    ]
   },
   "outputs": [],
   "source": [
    "# Calculate proportion of deaths per no. births\n",
    "# ... YOUR CODE FOR TASK 2 ...\n",
    "\n",
    "# Extract clinic 1 data into yearly1 and clinic 2 data into yearly2\n",
    "yearly1 = ...\n",
    "yearly2 = ...\n",
    "\n",
    "# Print out yearly1\n",
    "# ... YOUR CODE FOR TASK 2 ..."
   ]
  },
  {
   "cell_type": "code",
   "execution_count": 5,
   "metadata": {
    "dc": {
     "key": "45ea098e15"
    },
    "hide": true,
    "trusted": true,
    "tags": [
     "tests"
    ]
   },
   "outputs": [
    {
     "data": {},
     "metadata": {},
     "output_type": "display_data"
    },
    {
     "data": {
      "text/plain": [
       "0/4 tests passed; 4 failed\n========\n__main__.test_proportion_deaths_exists\n========\nTraceback (most recent call last):\n  File \"/usr/lib/python3.5/unittest/case.py\", line 58, in testPartExecutor\n    yield\n  File \"/usr/lib/python3.5/unittest/case.py\", line 600, in run\n    testMethod()\n  File \"/usr/local/lib/python3.5/dist-packages/nose/case.py\", line 198, in runTest\n    self.test(*self.arg)\n  File \"<string>\", line 3, in test_proportion_deaths_exists\nTypeError: argument of type 'ellipsis' is not iterable\n\n========\n__main__.test_proportion_deaths_is_correctly_calculated\n========\nTraceback (most recent call last):\n  File \"/usr/lib/python3.5/unittest/case.py\", line 58, in testPartExecutor\n    yield\n  File \"/usr/lib/python3.5/unittest/case.py\", line 600, in run\n    testMethod()\n  File \"/usr/local/lib/python3.5/dist-packages/nose/case.py\", line 198, in runTest\n    self.test(*self.arg)\n  File \"<string>\", line 7, in test_proportion_deaths_is_correctly_calculated\nTypeError: 'ellipsis' object is not subscriptable\n\n========\n__main__.test_yearly1_correct_shape\n========\nTraceback (most recent call last):\n  File \"/usr/lib/python3.5/unittest/case.py\", line 58, in testPartExecutor\n    yield\n  File \"/usr/lib/python3.5/unittest/case.py\", line 600, in run\n    testMethod()\n  File \"/usr/local/lib/python3.5/dist-packages/nose/case.py\", line 198, in runTest\n    self.test(*self.arg)\n  File \"<string>\", line 11, in test_yearly1_correct_shape\nAttributeError: 'ellipsis' object has no attribute 'shape'\n\n========\n__main__.test_yearly2_correct_shape\n========\nTraceback (most recent call last):\n  File \"/usr/lib/python3.5/unittest/case.py\", line 58, in testPartExecutor\n    yield\n  File \"/usr/lib/python3.5/unittest/case.py\", line 600, in run\n    testMethod()\n  File \"/usr/local/lib/python3.5/dist-packages/nose/case.py\", line 198, in runTest\n    self.test(*self.arg)\n  File \"<string>\", line 15, in test_yearly2_correct_shape\nAttributeError: 'ellipsis' object has no attribute 'shape'\n\n"
      ]
     },
     "execution_count": 5,
     "metadata": {},
     "output_type": "execute_result"
    }
   ],
   "source": [
    "%%nose\n",
    "\n",
    "def test_proportion_deaths_exists():\n",
    "    assert 'proportion_deaths' in yearly, \\\n",
    "        \"The DataFrame yearly should have the column proportion_deaths\"\n",
    "\n",
    "def test_proportion_deaths_is_correctly_calculated():\n",
    "    assert all(yearly[\"proportion_deaths\"] == yearly[\"deaths\"] / yearly[\"births\"]), \\\n",
    "        \"The column proportion_deaths should be the number of deaths divided by the number of births.\"\n",
    "   \n",
    "def test_yearly1_correct_shape():\n",
    "    assert yearly1.shape == yearly[yearly[\"clinic\"] == \"clinic 1\"].shape, \\\n",
    "        \"yearly1 should contain the rows in yearly from clinic 1\"\n",
    "\n",
    "def test_yearly2_correct_shape():\n",
    "    assert yearly2.shape == yearly[yearly[\"clinic\"] == \"clinic 2\"].shape, \\\n",
    "        \"yearly2 should contain the rows in yearly from clinic 2\""
   ]
  },
  {
   "cell_type": "markdown",
   "metadata": {
    "run_control": {
     "frozen": true
    },
    "deletable": false,
    "editable": false,
    "tags": [
     "context"
    ],
    "dc": {
     "key": "2bc9206960"
    }
   },
   "source": [
    "## 3. Death at the clinics\n<p>If we now plot the proportion of deaths at both clinic 1 and clinic 2  we'll see a curious pattern...</p>"
   ]
  },
  {
   "cell_type": "code",
   "execution_count": 6,
   "metadata": {
    "dc": {
     "key": "2bc9206960"
    },
    "collapsed": true,
    "trusted": true,
    "tags": [
     "sample_code"
    ]
   },
   "outputs": [],
   "source": [
    "# This makes plots appear in the notebook\n",
    "%matplotlib inline\n",
    "\n",
    "# Plot yearly proportion of deaths at the two clinics\n",
    "# ... YOUR CODE FOR TASK 3 ..."
   ]
  },
  {
   "cell_type": "code",
   "execution_count": 7,
   "metadata": {
    "dc": {
     "key": "2bc9206960"
    },
    "hide": true,
    "trusted": true,
    "tags": [
     "tests"
    ]
   },
   "outputs": [
    {
     "data": {},
     "metadata": {},
     "output_type": "display_data"
    },
    {
     "data": {
      "text/plain": [
       "0/2 tests passed; 2 failed\n========\n__main__.test_ax_exists\n========\nTraceback (most recent call last):\n  File \"/usr/lib/python3.5/unittest/case.py\", line 58, in testPartExecutor\n    yield\n  File \"/usr/lib/python3.5/unittest/case.py\", line 600, in run\n    testMethod()\n  File \"/usr/local/lib/python3.5/dist-packages/nose/case.py\", line 198, in runTest\n    self.test(*self.arg)\n  File \"<string>\", line 4, in test_ax_exists\nAssertionError: The result of the plot method should be assigned to a variable called ax\n\n========\n__main__.test_plot_plots_correct_data\n========\nTraceback (most recent call last):\n  File \"/usr/lib/python3.5/unittest/case.py\", line 58, in testPartExecutor\n    yield\n  File \"/usr/lib/python3.5/unittest/case.py\", line 600, in run\n    testMethod()\n  File \"/usr/local/lib/python3.5/dist-packages/nose/case.py\", line 198, in runTest\n    self.test(*self.arg)\n  File \"<string>\", line 7, in test_plot_plots_correct_data\nNameError: name 'ax' is not defined\n\n"
      ]
     },
     "execution_count": 7,
     "metadata": {},
     "output_type": "execute_result"
    }
   ],
   "source": [
    "%%nose\n",
    "\n",
    "def test_ax_exists():\n",
    "    assert 'ax' in globals(), \\\n",
    "        \"The result of the plot method should be assigned to a variable called ax\"\n",
    "        \n",
    "def test_plot_plots_correct_data():\n",
    "    y0 = ax.get_lines()[0].get_ydata()\n",
    "    y1 = ax.get_lines()[1].get_ydata()\n",
    "    assert (\n",
    "        (all(yearly1[\"proportion_deaths\"] == y0) and\n",
    "         all(yearly2[\"proportion_deaths\"] == y1))\n",
    "        or\n",
    "        (all(yearly1[\"proportion_deaths\"] == y1) and\n",
    "         all(yearly2[\"proportion_deaths\"] == y0))), \\\n",
    "        \"The data from clinic 1 and clinic 2 should be plotted as two separate lines.\""
   ]
  },
  {
   "cell_type": "markdown",
   "metadata": {
    "run_control": {
     "frozen": true
    },
    "deletable": false,
    "editable": false,
    "tags": [
     "context"
    ],
    "dc": {
     "key": "0c9fdbf550"
    }
   },
   "source": [
    "## 4. The handwashing begins\n<p>Why is the proportion of deaths constantly so much higher in Clinic 1? Semmelweis saw the same pattern and was puzzled and distressed. The only difference between the clinics was that many medical students served at Clinic 1, while mostly midwife students served at Clinic 2. While the midwives only tended to the women giving birth, the medical students also spent time in the autopsy rooms examining corpses. </p>\n<p>Semmelweis started to suspect that something on the corpses, spread from the hands of the medical students, caused childbed fever. So in a desperate attempt to stop the high mortality rates, he decreed: <em>Wash your hands!</em> This was an unorthodox and controversial request, nobody in Vienna knew about bacteria at this point in time. </p>\n<p>Let's load in monthly data from Clinic 1 to see if the handwashing had any effect.</p>"
   ]
  },
  {
   "cell_type": "code",
   "execution_count": 8,
   "metadata": {
    "dc": {
     "key": "0c9fdbf550"
    },
    "collapsed": true,
    "trusted": true,
    "tags": [
     "sample_code"
    ]
   },
   "outputs": [],
   "source": [
    "# Read datasets/monthly_deaths.csv into monthly\n",
    "monthly = ...\n",
    "\n",
    "# Calculate proportion of deaths per no. births\n",
    "# ... YOUR CODE FOR TASK 4 ...\n",
    "\n",
    "# Print out the first rows in monthly\n",
    "# ... YOUR CODE FOR TASK 4 ..."
   ]
  },
  {
   "cell_type": "code",
   "execution_count": 9,
   "metadata": {
    "dc": {
     "key": "0c9fdbf550"
    },
    "hide": true,
    "trusted": true,
    "tags": [
     "tests"
    ]
   },
   "outputs": [
    {
     "data": {},
     "metadata": {},
     "output_type": "display_data"
    },
    {
     "data": {
      "text/plain": [
       "1/4 tests passed; 3 failed\n========\n__main__.test_monthly_correctly_loaded\n========\nTraceback (most recent call last):\n  File \"/usr/lib/python3.5/unittest/case.py\", line 58, in testPartExecutor\n    yield\n  File \"/usr/lib/python3.5/unittest/case.py\", line 600, in run\n    testMethod()\n  File \"/usr/local/lib/python3.5/dist-packages/nose/case.py\", line 198, in runTest\n    self.test(*self.arg)\n  File \"<string>\", line 7, in test_monthly_correctly_loaded\nNameError: name 'pd' is not defined\n\n========\n__main__.test_date_correctly_converted\n========\nTraceback (most recent call last):\n  File \"/usr/lib/python3.5/unittest/case.py\", line 58, in testPartExecutor\n    yield\n  File \"/usr/lib/python3.5/unittest/case.py\", line 600, in run\n    testMethod()\n  File \"/usr/local/lib/python3.5/dist-packages/nose/case.py\", line 198, in runTest\n    self.test(*self.arg)\n  File \"<string>\", line 14, in test_date_correctly_converted\nAttributeError: 'ellipsis' object has no attribute 'date'\n\n========\n__main__.test_proportion_deaths_is_correctly_calculated\n========\nTraceback (most recent call last):\n  File \"/usr/lib/python3.5/unittest/case.py\", line 58, in testPartExecutor\n    yield\n  File \"/usr/lib/python3.5/unittest/case.py\", line 600, in run\n    testMethod()\n  File \"/usr/local/lib/python3.5/dist-packages/nose/case.py\", line 198, in runTest\n    self.test(*self.arg)\n  File \"<string>\", line 18, in test_proportion_deaths_is_correctly_calculated\nTypeError: 'ellipsis' object is not subscriptable\n\n"
      ]
     },
     "execution_count": 9,
     "metadata": {},
     "output_type": "execute_result"
    }
   ],
   "source": [
    "%%nose\n",
    "\n",
    "def test_monthly_exists():\n",
    "    assert \"monthly\" in globals(), \\\n",
    "        \"The variable monthly should be defined.\"\n",
    "        \n",
    "def test_monthly_correctly_loaded():\n",
    "    correct_monthly = pd.read_csv(\"datasets/monthly_deaths.csv\")\n",
    "    try:\n",
    "        pd.testing.assert_series_equal(monthly[\"births\"], correct_monthly[\"births\"])\n",
    "    except AssertionError:\n",
    "        assert False, \"The variable monthly should contain the data in monthly_deaths.csv\"\n",
    "\n",
    "def test_date_correctly_converted():\n",
    "    assert monthly.date.dtype == pd.to_datetime(pd.Series(\"1847-06-01\")).dtype, \\\n",
    "        \"The column date should be converted using the pd.to_datetime() function\"        \n",
    "        \n",
    "def test_proportion_deaths_is_correctly_calculated():\n",
    "    assert all(monthly[\"proportion_deaths\"] == monthly[\"deaths\"] / monthly[\"births\"]), \\\n",
    "        \"The column proportion_deaths should be the number of deaths divided by the number of births.\""
   ]
  },
  {
   "cell_type": "markdown",
   "metadata": {
    "run_control": {
     "frozen": true
    },
    "deletable": false,
    "editable": false,
    "tags": [
     "context"
    ],
    "dc": {
     "key": "2da2a84119"
    }
   },
   "source": [
    "## 5. The effect of handwashing\n<p>With the data loaded we can now look at the proportion of deaths over time. In the plot below we haven't marked where obligatory handwashing started, but it reduced the proportion of deaths to such a degree that you should be able to spot it!</p>"
   ]
  },
  {
   "cell_type": "code",
   "execution_count": 10,
   "metadata": {
    "dc": {
     "key": "2da2a84119"
    },
    "collapsed": true,
    "trusted": true,
    "tags": [
     "sample_code"
    ]
   },
   "outputs": [],
   "source": [
    "# Plot monthly proportion of deaths\n",
    "# ... YOUR CODE FOR TASK 5 ..."
   ]
  },
  {
   "cell_type": "code",
   "execution_count": 11,
   "metadata": {
    "dc": {
     "key": "2da2a84119"
    },
    "hide": true,
    "trusted": true,
    "tags": [
     "tests"
    ]
   },
   "outputs": [
    {
     "data": {},
     "metadata": {},
     "output_type": "display_data"
    },
    {
     "data": {
      "text/plain": [
       "0/2 tests passed; 2 failed\n========\n__main__.test_ax_exists\n========\nTraceback (most recent call last):\n  File \"/usr/lib/python3.5/unittest/case.py\", line 58, in testPartExecutor\n    yield\n  File \"/usr/lib/python3.5/unittest/case.py\", line 600, in run\n    testMethod()\n  File \"/usr/local/lib/python3.5/dist-packages/nose/case.py\", line 198, in runTest\n    self.test(*self.arg)\n  File \"<string>\", line 4, in test_ax_exists\nAssertionError: The result of the plot method should be assigned to a variable called ax\n\n========\n__main__.test_plot_plots_correct_data\n========\nTraceback (most recent call last):\n  File \"/usr/lib/python3.5/unittest/case.py\", line 58, in testPartExecutor\n    yield\n  File \"/usr/lib/python3.5/unittest/case.py\", line 600, in run\n    testMethod()\n  File \"/usr/local/lib/python3.5/dist-packages/nose/case.py\", line 198, in runTest\n    self.test(*self.arg)\n  File \"<string>\", line 7, in test_plot_plots_correct_data\nNameError: name 'ax' is not defined\n\n"
      ]
     },
     "execution_count": 11,
     "metadata": {},
     "output_type": "execute_result"
    }
   ],
   "source": [
    "%%nose\n",
    "        \n",
    "def test_ax_exists():\n",
    "    assert 'ax' in globals(), \\\n",
    "        \"The result of the plot method should be assigned to a variable called ax\"\n",
    "\n",
    "def test_plot_plots_correct_data():\n",
    "    y0 = ax.get_lines()[0].get_ydata()\n",
    "    assert all(monthly[\"proportion_deaths\"] == y0), \\\n",
    "        \"The plot should show the column 'proportion_deaths' in monthly.\""
   ]
  },
  {
   "cell_type": "markdown",
   "metadata": {
    "run_control": {
     "frozen": true
    },
    "deletable": false,
    "editable": false,
    "tags": [
     "context"
    ],
    "dc": {
     "key": "518e95acc5"
    }
   },
   "source": [
    "## 6. The effect of handwashing highlighted\n<p>Starting from the summer of 1847 the proportion of deaths is drastically reduced and, yes, this was when Semmelweis made handwashing obligatory. </p>\n<p>The effect of handwashing is made even more clear if we highlight this in the graph.</p>"
   ]
  },
  {
   "cell_type": "code",
   "execution_count": 12,
   "metadata": {
    "dc": {
     "key": "518e95acc5"
    },
    "collapsed": true,
    "trusted": true,
    "tags": [
     "sample_code"
    ]
   },
   "outputs": [],
   "source": [
    "# Date when handwashing was made mandatory\n",
    "import pandas as pd\n",
    "handwashing_start = pd.to_datetime('1847-06-01')\n",
    "\n",
    "# Split monthly into before and after handwashing_start\n",
    "before_washing = ...\n",
    "after_washing = ...\n",
    "\n",
    "# Plot monthly proportion of deaths before and after handwashing\n",
    "# ... YOUR CODE FOR TASK 6 ..."
   ]
  },
  {
   "cell_type": "code",
   "execution_count": 13,
   "metadata": {
    "dc": {
     "key": "518e95acc5"
    },
    "hide": true,
    "trusted": true,
    "tags": [
     "tests"
    ]
   },
   "outputs": [
    {
     "data": {},
     "metadata": {},
     "output_type": "display_data"
    },
    {
     "data": {
      "text/plain": [
       "0/4 tests passed; 4 failed\n========\n__main__.test_before_washing_correct\n========\nTraceback (most recent call last):\n  File \"/usr/lib/python3.5/unittest/case.py\", line 58, in testPartExecutor\n    yield\n  File \"/usr/lib/python3.5/unittest/case.py\", line 600, in run\n    testMethod()\n  File \"/usr/local/lib/python3.5/dist-packages/nose/case.py\", line 198, in runTest\n    self.test(*self.arg)\n  File \"<string>\", line 3, in test_before_washing_correct\nTypeError: 'ellipsis' object is not subscriptable\n\n========\n__main__.test_after_washing_correct\n========\nTraceback (most recent call last):\n  File \"/usr/lib/python3.5/unittest/case.py\", line 58, in testPartExecutor\n    yield\n  File \"/usr/lib/python3.5/unittest/case.py\", line 600, in run\n    testMethod()\n  File \"/usr/local/lib/python3.5/dist-packages/nose/case.py\", line 198, in runTest\n    self.test(*self.arg)\n  File \"<string>\", line 10, in test_after_washing_correct\nTypeError: 'ellipsis' object is not subscriptable\n\n========\n__main__.test_ax_exists\n========\nTraceback (most recent call last):\n  File \"/usr/lib/python3.5/unittest/case.py\", line 58, in testPartExecutor\n    yield\n  File \"/usr/lib/python3.5/unittest/case.py\", line 600, in run\n    testMethod()\n  File \"/usr/local/lib/python3.5/dist-packages/nose/case.py\", line 198, in runTest\n    self.test(*self.arg)\n  File \"<string>\", line 18, in test_ax_exists\nAssertionError: The result of the plot method should be assigned to a variable called ax\n\n========\n__main__.test_plot_plots_correct_data\n========\nTraceback (most recent call last):\n  File \"/usr/lib/python3.5/unittest/case.py\", line 58, in testPartExecutor\n    yield\n  File \"/usr/lib/python3.5/unittest/case.py\", line 600, in run\n    testMethod()\n  File \"/usr/local/lib/python3.5/dist-packages/nose/case.py\", line 198, in runTest\n    self.test(*self.arg)\n  File \"<string>\", line 22, in test_plot_plots_correct_data\nNameError: name 'ax' is not defined\n\n"
      ]
     },
     "execution_count": 13,
     "metadata": {},
     "output_type": "execute_result"
    }
   ],
   "source": [
    "%%nose\n",
    "\n",
    "def test_before_washing_correct():\n",
    "    correct_before_washing = monthly[monthly[\"date\"] < handwashing_start]\n",
    "    try:\n",
    "        pd.testing.assert_frame_equal(before_washing, correct_before_washing)\n",
    "    except AssertionError:\n",
    "        assert False, \"before_washing should contain the rows of monthly < handwashing_start\" \n",
    "\n",
    "def test_after_washing_correct():\n",
    "    correct_after_washing = monthly[monthly[\"date\"] >= handwashing_start]\n",
    "    try:\n",
    "        pd.testing.assert_frame_equal(after_washing, correct_after_washing)\n",
    "    except AssertionError:\n",
    "        assert False, \"after_washing should contain the rows of monthly >= handwashing_start\" \n",
    "\n",
    "def test_ax_exists():\n",
    "    assert 'ax' in globals(), \\\n",
    "        \"The result of the plot method should be assigned to a variable called ax\"\n",
    "\n",
    "        \n",
    "def test_plot_plots_correct_data():\n",
    "    y0_len = ax.get_lines()[0].get_ydata().shape[0]\n",
    "    y1_len = ax.get_lines()[1].get_ydata().shape[0]\n",
    "    assert (\n",
    "        (before_washing[\"proportion_deaths\"].shape[0] == y0_len and\n",
    "         after_washing[\"proportion_deaths\"].shape[0] == y1_len)\n",
    "        or\n",
    "        (before_washing[\"proportion_deaths\"].shape[0] == y0_len and\n",
    "         after_washing[\"proportion_deaths\"].shape[0] == y1_len)), \\\n",
    "        \"The data in before_washing and after_washing should be plotted as two separate lines.\""
   ]
  },
  {
   "cell_type": "markdown",
   "metadata": {
    "run_control": {
     "frozen": true
    },
    "deletable": false,
    "editable": false,
    "tags": [
     "context"
    ],
    "dc": {
     "key": "586a9f9803"
    }
   },
   "source": [
    "## 7. More handwashing, fewer deaths?\n<p>Again, the graph shows that handwashing had a huge effect. How much did it reduce the monthly proportion of deaths on average?</p>"
   ]
  },
  {
   "cell_type": "code",
   "execution_count": 14,
   "metadata": {
    "dc": {
     "key": "586a9f9803"
    },
    "trusted": true,
    "tags": [
     "sample_code"
    ]
   },
   "outputs": [
    {
     "data": {
      "text/plain": [
       "Ellipsis"
      ]
     },
     "execution_count": 14,
     "metadata": {},
     "output_type": "execute_result"
    }
   ],
   "source": [
    "# Difference in mean monthly proportion of deaths due to handwashing\n",
    "before_proportion = ...\n",
    "after_proportion = ...\n",
    "mean_diff = ...\n",
    "mean_diff"
   ]
  },
  {
   "cell_type": "code",
   "execution_count": 15,
   "metadata": {
    "dc": {
     "key": "586a9f9803"
    },
    "hide": true,
    "trusted": true,
    "tags": [
     "tests"
    ]
   },
   "outputs": [
    {
     "data": {},
     "metadata": {},
     "output_type": "display_data"
    },
    {
     "data": {
      "text/plain": [
       "3/5 tests passed; 2 failed\n========\n__main__.test_before_proportion_is_a_series\n========\nTraceback (most recent call last):\n  File \"/usr/lib/python3.5/unittest/case.py\", line 58, in testPartExecutor\n    yield\n  File \"/usr/lib/python3.5/unittest/case.py\", line 600, in run\n    testMethod()\n  File \"/usr/local/lib/python3.5/dist-packages/nose/case.py\", line 198, in runTest\n    self.test(*self.arg)\n  File \"<string>\", line 16, in test_before_proportion_is_a_series\nAssertionError: before_proportion should be 76 elements long, and not a single number.\n\n========\n__main__.test_correct_mean_diff\n========\nTraceback (most recent call last):\n  File \"/usr/lib/python3.5/unittest/case.py\", line 58, in testPartExecutor\n    yield\n  File \"/usr/lib/python3.5/unittest/case.py\", line 600, in run\n    testMethod()\n  File \"/usr/local/lib/python3.5/dist-packages/nose/case.py\", line 198, in runTest\n    self.test(*self.arg)\n  File \"<string>\", line 19, in test_correct_mean_diff\nTypeError: 'ellipsis' object is not subscriptable\n\n"
      ]
     },
     "execution_count": 15,
     "metadata": {},
     "output_type": "execute_result"
    }
   ],
   "source": [
    "%%nose\n",
    "        \n",
    "def test_before_proportion_exists():\n",
    "    assert 'before_proportion' in globals(), \\\n",
    "        \"before_proportion should be defined\"\n",
    "        \n",
    "def test_after_proportion_exists():\n",
    "    assert 'after_proportion' in globals(), \\\n",
    "        \"after_proportion should be defined\"\n",
    "        \n",
    "def test_mean_diff_exists():\n",
    "    assert 'mean_diff' in globals(), \\\n",
    "        \"mean_diff should be defined\"\n",
    "        \n",
    "def test_before_proportion_is_a_series():\n",
    "     assert hasattr(before_proportion, '__len__') and len(before_proportion) == 76, \\\n",
    "        \"before_proportion should be 76 elements long, and not a single number.\"\n",
    "\n",
    "def test_correct_mean_diff():\n",
    "    correct_before_proportion = before_washing[\"proportion_deaths\"]\n",
    "    correct_after_proportion = after_washing[\"proportion_deaths\"]\n",
    "    correct_mean_diff = correct_after_proportion.mean() - correct_before_proportion.mean()\n",
    "    assert mean_diff == correct_mean_diff, \\\n",
    "        \"mean_diff should be calculated as the mean of after_proportion minus the mean of before_proportion.\""
   ]
  },
  {
   "cell_type": "markdown",
   "metadata": {
    "run_control": {
     "frozen": true
    },
    "deletable": false,
    "editable": false,
    "tags": [
     "context"
    ],
    "dc": {
     "key": "d8ff65292a"
    }
   },
   "source": [
    "## 8. A Bootstrap analysis of Semmelweis handwashing data\n<p>It reduced the proportion of deaths by around 8 percentage points! From 10% on average to just 2% (which is still a high number by modern standards). </p>\n<p>To get a feeling for the uncertainty around how much handwashing reduces mortalities we could look at a confidence interval (here calculated using the bootstrap method).</p>"
   ]
  },
  {
   "cell_type": "code",
   "execution_count": 16,
   "metadata": {
    "dc": {
     "key": "d8ff65292a"
    },
    "trusted": true,
    "tags": [
     "sample_code"
    ]
   },
   "outputs": [
    {
     "data": {
      "text/plain": [
       "Ellipsis"
      ]
     },
     "execution_count": 16,
     "metadata": {},
     "output_type": "execute_result"
    }
   ],
   "source": [
    "# A bootstrap analysis of the reduction of deaths due to handwashing\n",
    "boot_mean_diff = []\n",
    "for i in range(3000):\n",
    "    boot_before = ...\n",
    "    boot_after = ...\n",
    "    boot_mean_diff.append( ... )\n",
    "\n",
    "# Calculating a 95% confidence interval from boot_mean_diff \n",
    "confidence_interval = ...\n",
    "confidence_interval\n"
   ]
  },
  {
   "cell_type": "code",
   "execution_count": 17,
   "metadata": {
    "dc": {
     "key": "d8ff65292a"
    },
    "hide": true,
    "trusted": true,
    "tags": [
     "tests"
    ]
   },
   "outputs": [
    {
     "data": {},
     "metadata": {},
     "output_type": "display_data"
    },
    {
     "data": {
      "text/plain": [
       "1/3 tests passed; 2 failed\n========\n__main__.test_boot_before_correct_length\n========\nTraceback (most recent call last):\n  File \"/usr/lib/python3.5/unittest/case.py\", line 58, in testPartExecutor\n    yield\n  File \"/usr/lib/python3.5/unittest/case.py\", line 600, in run\n    testMethod()\n  File \"/usr/local/lib/python3.5/dist-packages/nose/case.py\", line 198, in runTest\n    self.test(*self.arg)\n  File \"<string>\", line 7, in test_boot_before_correct_length\nTypeError: object of type 'ellipsis' has no len()\n\n========\n__main__.test_confidence_interval_correct\n========\nTraceback (most recent call last):\n  File \"/usr/lib/python3.5/unittest/case.py\", line 58, in testPartExecutor\n    yield\n  File \"/usr/lib/python3.5/unittest/case.py\", line 600, in run\n    testMethod()\n  File \"/usr/local/lib/python3.5/dist-packages/nose/case.py\", line 198, in runTest\n    self.test(*self.arg)\n  File \"<string>\", line 13, in test_confidence_interval_correct\nTypeError: bad operand type for abs(): 'ellipsis'\n\n"
      ]
     },
     "execution_count": 17,
     "metadata": {},
     "output_type": "execute_result"
    }
   ],
   "source": [
    "%%nose\n",
    "\n",
    "def test_confidence_interval_exists():\n",
    "    assert 'confidence_interval' in globals(), \\\n",
    "        \"confidence_interval should be defined\"\n",
    "\n",
    "def test_boot_before_correct_length():\n",
    "    assert len(boot_before) == len(before_proportion), \\\n",
    "        (\"boot_before have {} elements and before_proportion have {}.\" + \n",
    "         \"They should have the same number of elements.\"\n",
    "        ).format(len(boot_before), len(before_proportion))\n",
    "        \n",
    "def test_confidence_interval_correct():\n",
    "    assert ((0.09 < abs(confidence_interval).max() < 0.11) and\n",
    "            (0.055 < abs(confidence_interval).min() < 0.075)) , \\\n",
    "        \"confidence_interval should be calculated as the [0.025, 0.975] quantiles of boot_mean_diff.\""
   ]
  },
  {
   "cell_type": "markdown",
   "metadata": {
    "run_control": {
     "frozen": true
    },
    "deletable": false,
    "editable": false,
    "tags": [
     "context"
    ],
    "dc": {
     "key": "0645423069"
    }
   },
   "source": [
    "## 9. The fate of Dr. Semmelweis\n<p>So handwashing reduced the proportion of deaths by between 6.7 and 10 percentage points, according to a 95% confidence interval. All in all, it would seem that Semmelweis had solid evidence that handwashing was a simple but highly effective procedure that could save many lives.</p>\n<p>The tragedy is that, despite the evidence, Semmelweis' theory — that childbed fever was caused by some \"substance\" (what we today know as <em>bacteria</em>) from autopsy room corpses — was ridiculed by contemporary scientists. The medical community largely rejected his discovery and in 1849 he was forced to leave the Vienna General Hospital for good.</p>\n<p>One reason for this was that statistics and statistical arguments were uncommon in medical science in the 1800s. Semmelweis only published his data as long tables of raw data, but he didn't show any graphs nor confidence intervals. If he would have had access to the analysis we've just put together he might have been more successful in getting the Viennese doctors to wash their hands.</p>"
   ]
  },
  {
   "cell_type": "code",
   "execution_count": 18,
   "metadata": {
    "dc": {
     "key": "0645423069"
    },
    "collapsed": true,
    "trusted": true,
    "tags": [
     "sample_code"
    ]
   },
   "outputs": [],
   "source": [
    "# The data Semmelweis collected points to that:\n",
    "doctors_should_wash_their_hands = False"
   ]
  },
  {
   "cell_type": "code",
   "execution_count": 19,
   "metadata": {
    "dc": {
     "key": "0645423069"
    },
    "hide": true,
    "trusted": true,
    "tags": [
     "tests"
    ]
   },
   "outputs": [
    {
     "data": {},
     "metadata": {},
     "output_type": "display_data"
    },
    {
     "data": {
      "text/plain": [
       "0/1 tests passed; 1 failed\n========\n__main__.test_doctors_should_was_their_hands\n========\nTraceback (most recent call last):\n  File \"/usr/lib/python3.5/unittest/case.py\", line 58, in testPartExecutor\n    yield\n  File \"/usr/lib/python3.5/unittest/case.py\", line 600, in run\n    testMethod()\n  File \"/usr/local/lib/python3.5/dist-packages/nose/case.py\", line 198, in runTest\n    self.test(*self.arg)\n  File \"<string>\", line 4, in test_doctors_should_was_their_hands\nAssertionError: Semmelweis would argue that doctors_should_wash_their_hands should be True .\n\n"
      ]
     },
     "execution_count": 19,
     "metadata": {},
     "output_type": "execute_result"
    }
   ],
   "source": [
    "%%nose\n",
    "\n",
    "def test_doctors_should_was_their_hands():\n",
    "    assert doctors_should_wash_their_hands, \\\n",
    "        \"Semmelweis would argue that doctors_should_wash_their_hands should be True .\""
   ]
  }
 ],
 "metadata": {
  "language_info": {
   "nbconvert_exporter": "python",
   "file_extension": ".py",
   "version": "3.5.2",
   "codemirror_mode": {
    "name": "ipython",
    "version": 3
   },
   "name": "python",
   "mimetype": "text/x-python",
   "pygments_lexer": "ipython3"
  },
  "kernelspec": {
   "name": "python3",
   "display_name": "Python 3",
   "language": "python"
  }
 },
 "nbformat": 4,
 "nbformat_minor": 2
}
