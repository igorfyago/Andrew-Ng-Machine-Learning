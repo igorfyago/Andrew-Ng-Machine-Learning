{
 "cells": [
  {
   "cell_type": "code",
   "execution_count": null,
   "metadata": {
    "collapsed": true
   },
   "outputs": [],
   "source": [
    "from __future__ import print_function , division"
   ]
  },
  {
   "cell_type": "markdown",
   "metadata": {},
   "source": [
    "## Collection of  ( slightly more ) advanced python constructs and tools you might find useful for your  computing"
   ]
  },
  {
   "cell_type": "markdown",
   "metadata": {
    "collapsed": true
   },
   "source": [
    "- ### [Lambda expression](#Lambdas)\n",
    "- ### [Comprehension ( and sets )](#Comprehension)\n",
    "- ### [Generators and generator comprehension](#Generators)\n",
    "- ### [Iterators and Iteration protocol](#Iterators)\n",
    "- ### [decorators](#Decorators)\n",
    "<br>\n",
    "- ### [ intro to performance profiling](#Profiling)\n",
    "<br><br>"
   ]
  },
  {
   "cell_type": "markdown",
   "metadata": {},
   "source": [
    "### Lambdas\n",
    "\n",
    "Lambda expressions can be used to create an anonymous function object consisting of a single expression of arbitrary complexity\n",
    "\n"
   ]
  },
  {
   "cell_type": "code",
   "execution_count": null,
   "metadata": {
    "collapsed": true
   },
   "outputs": [],
   "source": [
    "## the standard way of defining a funciton is \n",
    "def myfunct1 ( mypar1, mypar2 ):\n",
    "    result = mypar1*5 + mypar2\n",
    "    ### do something else if you need\n",
    "    return result"
   ]
  },
  {
   "cell_type": "code",
   "execution_count": null,
   "metadata": {
    "collapsed": false
   },
   "outputs": [],
   "source": [
    "print(myfunct1(2,3))"
   ]
  },
  {
   "cell_type": "code",
   "execution_count": null,
   "metadata": {
    "collapsed": false
   },
   "outputs": [],
   "source": [
    "## if the body of my function contains a single expression, then I can use lambda to \n",
    "## create an anonymous object function. \n",
    "mylambda1 = lambda x,y : x*5+y\n",
    "\n",
    "print(mylambda1(2,3))"
   ]
  },
  {
   "cell_type": "code",
   "execution_count": null,
   "metadata": {
    "collapsed": false
   },
   "outputs": [],
   "source": [
    "mylambda1"
   ]
  },
  {
   "cell_type": "code",
   "execution_count": null,
   "metadata": {
    "collapsed": false
   },
   "outputs": [],
   "source": [
    "## Lambda needs to always return a value, which is the result of the expression. No statements are allowed. \n",
    "\n",
    "def myfunct2 ( mypar1, mypar2 ):\n",
    "    pass\n",
    "\n",
    "print('I can do this in a function' , myfunct2(2,3))\n",
    "\n",
    "#mylambda1 = lambda x,y : pass\n",
    "\n",
    "#print('Not in a lambda expression ' mylambda1(2,3))"
   ]
  },
  {
   "cell_type": "code",
   "execution_count": null,
   "metadata": {
    "collapsed": false
   },
   "outputs": [],
   "source": [
    "## Lambdas are useful expecially when I don't want to bother creating a function \n",
    "\n",
    "mylist = [ 1 ,2 ,3 ,4, 5 ]\n",
    "print(mylist)\n",
    "\n",
    "mymodified_list = map(lambda x: x*x + 5  , mylist )\n",
    "\n",
    "print (list(mymodified_list))"
   ]
  },
  {
   "cell_type": "code",
   "execution_count": null,
   "metadata": {
    "collapsed": false
   },
   "outputs": [],
   "source": [
    "## another example is reduce \n",
    "import sys\n",
    "if ( sys.version_info  >= (3,) ) : from functools import reduce   ## if python3\n",
    "\n",
    "## I can use the function I created earlier    \n",
    "print (reduce(myfunct1, mylist))\n",
    "\n",
    "## or a lambda expression\n",
    "print (reduce(lambda x,y : x*5+y , mylist))"
   ]
  },
  {
   "cell_type": "code",
   "execution_count": null,
   "metadata": {
    "collapsed": false
   },
   "outputs": [],
   "source": [
    "## Other examples \n",
    "\n",
    "## extracting the even numbers from a list with filter \n",
    "print ( list(filter(lambda x : x % 2 == 0  ,range(10))) )\n",
    "\n",
    "## or odd numbers in list comprehensions (.. see below for more on comprehensions)\n",
    "isodd  = lambda x :  x % 2 != 0 \n",
    "print ( [ i  for i  in range(10) if isodd(i)  ] )  \n",
    "\n",
    "print ( [ i  for i  in range(10) if (lambda x :  x % 2 != 0)(i)  ] )  \n",
    "\n"
   ]
  },
  {
   "cell_type": "code",
   "execution_count": null,
   "metadata": {
    "collapsed": false
   },
   "outputs": [],
   "source": [
    "## Note that lambda is not always the best construct \n",
    "\n",
    "mylambda2 = lambda x: x + 5 \n",
    "a = [mylambda2(x) for x in range(10)]\n",
    "\n",
    "b = [lambda x : x + 5 for x in range(10)]\n",
    "\n",
    "c = [(lambda x: x+5)(x) for x in range(10)]\n",
    "\n",
    "d = [ x + 5  for x in range(10) ]\n",
    "\n",
    "## do they do the same thing?"
   ]
  },
  {
   "cell_type": "code",
   "execution_count": null,
   "metadata": {
    "collapsed": false
   },
   "outputs": [],
   "source": [
    "print (a)"
   ]
  },
  {
   "cell_type": "code",
   "execution_count": null,
   "metadata": {
    "collapsed": false
   },
   "outputs": [],
   "source": []
  },
  {
   "cell_type": "markdown",
   "metadata": {},
   "source": [
    "### Comprehension\n",
    "\n",
    "Comprehensions allow to iterate over an object, and evaluate conditional expressions to create collections in a concise way  "
   ]
  },
  {
   "cell_type": "raw",
   "metadata": {},
   "source": [
    "myresult = []\n",
    "for dumVar in iterObject:\n",
    "    if some_condition(dumVar):\n",
    "        myresult.append(some_expression (dumVar))\n",
    "        \n",
    "[ some_expression (dumVar)  for dumVar in iterObject if some_condition(dumVar) ]\n",
    "\n",
    "\n",
    "or in other cases\n",
    "\n",
    "myresult = []\n",
    "for dumVar in iterObject:\n",
    "    if some_condition(dumVar):\n",
    "        myresult.append(some_expression(dumVar))\n",
    "    else:\n",
    "        myresult.append(some_other_expression (dumVar))\n",
    "        \n",
    "[ some_expression(dumVar) if some_condition(dumVar) else some_other_expression(dumVar) for dumVar in iterObject ]\n",
    "\n"
   ]
  },
  {
   "cell_type": "code",
   "execution_count": null,
   "metadata": {
    "collapsed": false
   },
   "outputs": [],
   "source": [
    "a = range(20)\n",
    "b = range(20,40)\n",
    "\n",
    "def myfunct3(x,y):\n",
    "    return x+y\n",
    "\n",
    "result = []\n",
    "for i,j in zip(a,b):\n",
    "    if bool(i % 2)   and j % 3 == 0 :\n",
    "        result.append(myfunct3(i, j))\n",
    "        \n",
    "print(result)"
   ]
  },
  {
   "cell_type": "code",
   "execution_count": null,
   "metadata": {
    "collapsed": false
   },
   "outputs": [],
   "source": [
    "## I can achieve the same with a list comprehension\n",
    "result = [ i + j for i,j in zip(a,b) if bool(i % 2)   and j % 3 == 0 ]\n",
    "print (result)"
   ]
  },
  {
   "cell_type": "code",
   "execution_count": null,
   "metadata": {
    "collapsed": false
   },
   "outputs": [],
   "source": [
    "## I can operate on multiple lists combining them for example using zip. .... \n",
    "## do you know zip?\n",
    "\n",
    "a = [\"Maria\" , \"Francesco\" , \"Marc\" , \"Ricardo\" , \"Ole\" , \"Dorothee\"]\n",
    "b = [\"Staff\" , \"Staff\" , \"Student\" , \"PostDoc\" , \"Student\" , \"Faculty\"]\n",
    "\n",
    "result = [ i + \": \" + j for i,j in zip(a,b) if len(i) < 5  ]\n",
    "print (result)"
   ]
  },
  {
   "cell_type": "code",
   "execution_count": null,
   "metadata": {
    "collapsed": false
   },
   "outputs": [],
   "source": [
    "## Comprehensions are not only for lists, but also for example for Dictionaries \n",
    "a = [\"Maria\" , \"Francesco\" , \"Marc\" , \"Ricardo\" , \"Ole\" , \"Dorothee\"]\n",
    "b = [\"Staff\" , \"Staff\" , \"Student\" , \"PostDoc\" , \"Student\" , \"Faculty\"]\n",
    "\n",
    "result = { i  : j for i,j in zip(a,b) if j != \"PostDoc\"  }\n",
    "print (result)\n",
    "print()\n",
    "print (result['Marc'])"
   ]
  },
  {
   "cell_type": "code",
   "execution_count": null,
   "metadata": {
    "collapsed": false
   },
   "outputs": [],
   "source": [
    "## also in this case I can have conditional definitions exactly as in lists comprehensions \n",
    "a = [\"Maria\" , \"Francesco\" , \"Marc\" , \"Ricardo\" , \"Ole\" , \"Dorothee\"]\n",
    "b = [\"Staff\" , \"Staff\" , \"Student\" , \"PostDoc\" , \"Student\" , \"Faculty\"]\n",
    "\n",
    "result = { i : ( j if  j != \"PostDoc\" else \"Researcher\" )  for i,j in zip(a,b) }\n",
    "\n",
    "#print (result)\n",
    "\n",
    "print (result['Ricardo'] , result['Marc'])"
   ]
  },
  {
   "cell_type": "code",
   "execution_count": null,
   "metadata": {
    "collapsed": false
   },
   "outputs": [],
   "source": [
    "## There are also set comprehensions. They work the same way .... but they are sets.\n",
    "## do you know sets? \n",
    "\n",
    "a = [\"Staff\" , \"staff\" , \"Student\" , \"PostDoc\" , \"postDoc\" , \"Faculty\"]\n",
    "\n",
    "b1 = [ i.lower() for i in a ] \n",
    "#b2 = { i.lower() for i in a }\n",
    "\n",
    "print (b1)\n",
    "#print (b2)"
   ]
  },
  {
   "cell_type": "code",
   "execution_count": null,
   "metadata": {
    "collapsed": true
   },
   "outputs": [],
   "source": [
    "## In case you don't know sets ...\n",
    "mylist = \"t h i s  i s  n o n s e n s e\".split()\n",
    "myset = set(\"t h i s  i s  n o n s e n s e\".split())"
   ]
  },
  {
   "cell_type": "code",
   "execution_count": null,
   "metadata": {
    "collapsed": false
   },
   "outputs": [],
   "source": [
    "len(mylist) , len(myset)"
   ]
  },
  {
   "cell_type": "code",
   "execution_count": null,
   "metadata": {
    "collapsed": false
   },
   "outputs": [],
   "source": [
    "print (mylist)\n",
    "mylist.append(\"n\")\n",
    "mylist.append(\"o\")\n",
    "print (mylist)"
   ]
  },
  {
   "cell_type": "code",
   "execution_count": null,
   "metadata": {
    "collapsed": false
   },
   "outputs": [],
   "source": [
    "print (myset)\n",
    "myset.add(\"n\")\n",
    "myset.add(\"o\")\n",
    "print (myset)"
   ]
  },
  {
   "cell_type": "code",
   "execution_count": null,
   "metadata": {
    "collapsed": false
   },
   "outputs": [],
   "source": [
    "print (mylist[2] , 'i' in mylist  , mylist.index('i'))\n",
    "#print (myset[2]) \n",
    "#print ('i' in myset )"
   ]
  },
  {
   "cell_type": "code",
   "execution_count": null,
   "metadata": {
    "collapsed": false
   },
   "outputs": [],
   "source": [
    "a = list(range(int(1e6)))\n",
    "b = set(a)"
   ]
  },
  {
   "cell_type": "code",
   "execution_count": null,
   "metadata": {
    "collapsed": false
   },
   "outputs": [],
   "source": [
    "import sys \n",
    "print (sys.getsizeof(a) / sys.getsizeof(b))"
   ]
  },
  {
   "cell_type": "code",
   "execution_count": null,
   "metadata": {
    "collapsed": false
   },
   "outputs": [],
   "source": [
    "%timeit  1 in a \n",
    "%timeit  987654 in a "
   ]
  },
  {
   "cell_type": "code",
   "execution_count": null,
   "metadata": {
    "collapsed": false
   },
   "outputs": [],
   "source": [
    "%timeit  1 in b \n",
    "%timeit  987654 in b "
   ]
  },
  {
   "cell_type": "markdown",
   "metadata": {},
   "source": [
    "### Generators\n",
    "\n",
    "Generators are objects that generate values on demand, only when necessary"
   ]
  },
  {
   "cell_type": "code",
   "execution_count": null,
   "metadata": {
    "collapsed": false
   },
   "outputs": [],
   "source": [
    "## Let's consider this example : \n",
    "\n",
    "def myfunct(x):\n",
    "    result = [] \n",
    "    for i in x :\n",
    "        result.append(i*5+2)\n",
    "    return result \n",
    "\n",
    "a = myfunct([1,2,3,4,5])\n",
    "\n",
    "print(a)"
   ]
  },
  {
   "cell_type": "code",
   "execution_count": null,
   "metadata": {
    "collapsed": false
   },
   "outputs": [],
   "source": [
    "## I can convert the function in a generator using the keyword yield instead of return\n",
    "def mygen(x):\n",
    "    for i in x :\n",
    "        yield i*5+2 \n",
    "\n",
    "a = mygen([1,2,3,4,5])\n",
    "\n",
    "print(a)"
   ]
  },
  {
   "cell_type": "code",
   "execution_count": null,
   "metadata": {
    "collapsed": false
   },
   "outputs": [],
   "source": [
    "## I can then ask the generator to start producing the values I need \n",
    "next(a)"
   ]
  },
  {
   "cell_type": "code",
   "execution_count": null,
   "metadata": {
    "collapsed": true
   },
   "outputs": [],
   "source": [
    "b = a "
   ]
  },
  {
   "cell_type": "code",
   "execution_count": null,
   "metadata": {
    "collapsed": false
   },
   "outputs": [],
   "source": [
    "next(b)"
   ]
  },
  {
   "cell_type": "code",
   "execution_count": null,
   "metadata": {
    "collapsed": false
   },
   "outputs": [],
   "source": [
    "a = mygen([1,2,3,4,5])\n",
    "for i in a :\n",
    "    print (i)"
   ]
  },
  {
   "cell_type": "code",
   "execution_count": null,
   "metadata": {
    "collapsed": false
   },
   "outputs": [],
   "source": [
    "a = [ i*5+2 for i in [1,2,3,4,5] ]\n",
    "print (a)"
   ]
  },
  {
   "cell_type": "code",
   "execution_count": null,
   "metadata": {
    "collapsed": false
   },
   "outputs": [],
   "source": [
    "## There are also generator comprehensions .\n",
    "a = (i*5+2 for i in [1,2,3,4,5] )\n",
    "print(a)"
   ]
  },
  {
   "cell_type": "markdown",
   "metadata": {},
   "source": [
    "The most important points about generators are that :\n",
    "- use very little memory as they do not compute and store the results ahead of time \n",
    "- computation is done only when needed."
   ]
  },
  {
   "cell_type": "code",
   "execution_count": null,
   "metadata": {
    "collapsed": false
   },
   "outputs": [],
   "source": [
    "%timeit list1 = [x**2 for x in range(int(1e7))]"
   ]
  },
  {
   "cell_type": "code",
   "execution_count": null,
   "metadata": {
    "collapsed": false
   },
   "outputs": [],
   "source": [
    "%timeit gen1 = (x**2 for x in range(int(1e7)))"
   ]
  },
  {
   "cell_type": "code",
   "execution_count": null,
   "metadata": {
    "collapsed": false
   },
   "outputs": [],
   "source": [
    "%%timeit \n",
    "gen2 = (x**2 for x in range(int(1e7)))\n",
    "list2 = list(gen2)\n"
   ]
  },
  {
   "cell_type": "markdown",
   "metadata": {},
   "source": [
    "### Iterators \n",
    "\n",
    "Iterable objects are a very important concept in python.\n"
   ]
  },
  {
   "cell_type": "raw",
   "metadata": {},
   "source": [
    "Iterations in languages like C are not very convenient :\n",
    "\n",
    "int a[N] ;\n",
    "for (i=0 ; i < N ; i++){\n",
    "    something_meaningful(a[i]);  \n",
    "}\n",
    "\n",
    "There is no abstraction.\n",
    "We don't actually care about 'i'\n",
    "\n",
    "In python we only need to do \n",
    "\n",
    "for x in a:\n",
    "    something_meaningful(x);\n",
    "\n",
    ".... with the added bonus that you will never do an 'out-of-bounds' access.\n"
   ]
  },
  {
   "cell_type": "markdown",
   "metadata": {},
   "source": [
    "Python  can iterate on many types of objects, called \"iterbles\". \n",
    "\n",
    "An \"iterable\" is  any object that is implemented within a certain interface and so it's amenable to be iterated on.\n",
    "\n",
    "We have encountered \"for loops\", but there are many other instances when python uses iterable. \n",
    "A couple of examples ...\n"
   ]
  },
  {
   "cell_type": "code",
   "execution_count": null,
   "metadata": {
    "collapsed": false
   },
   "outputs": [],
   "source": [
    "## list comprehension \n",
    "\n",
    "[ i*2 for i in \"ciao\"]"
   ]
  },
  {
   "cell_type": "code",
   "execution_count": null,
   "metadata": {
    "collapsed": false
   },
   "outputs": [],
   "source": [
    "## tuple unpacking \n",
    "a ,b ,c = (1,2,3)\n",
    "print (a)\n",
    "print (c)"
   ]
  },
  {
   "cell_type": "code",
   "execution_count": null,
   "metadata": {
    "collapsed": false
   },
   "outputs": [],
   "source": [
    "## that works on anything that is iterable ( as long as the number of elements work )\n",
    "a , b, c =  [ x*x for x in [1,2,3] ]\n",
    "print (a)\n",
    "print (b)\n",
    "print (c)\n",
    "print()\n",
    "a , b, c =  mygen([1,2,3])\n",
    "print (a)\n",
    "print (b)\n",
    "print (c)"
   ]
  },
  {
   "cell_type": "code",
   "execution_count": null,
   "metadata": {
    "collapsed": false
   },
   "outputs": [],
   "source": [
    "## function calls \n",
    "\n",
    "def myf(x , a, b ,c ):\n",
    "    return x + a*b - c \n",
    "\n",
    "print(myf(10,7,12,17))\n",
    "print()\n",
    "\n",
    "## if for some reason my parameters are in atuple, \n",
    "a = (7,12,17)\n",
    "x = 10\n",
    "\n",
    "## this will not work  \n",
    "##print(myf(x,a))\n",
    "\n",
    "## but this will \n",
    "print(myf(x,*a))\n",
    "print()\n",
    "## and I can pass any iterable ( with the appropriate number of elements )\n",
    "print( myf(x,*mygen([1,2,3])) )"
   ]
  },
  {
   "cell_type": "code",
   "execution_count": null,
   "metadata": {
    "collapsed": true
   },
   "outputs": [],
   "source": [
    "## files or other things "
   ]
  },
  {
   "cell_type": "markdown",
   "metadata": {},
   "source": [
    "An \"iterable\" is any object \"a\" for which the iter(a) can produce an iterator, either \n",
    "- invoking a.__iter__()\n",
    "- or trying to access indexed elements of a ( a[0] , a[1] , ... )"
   ]
  },
  {
   "cell_type": "code",
   "execution_count": null,
   "metadata": {
    "collapsed": false
   },
   "outputs": [],
   "source": [
    "mylist = [ 4, 2, 35, 6 ,7 ,100 , \"hello\" , True , \"This is the last one \" ]\n",
    "type(mylist)"
   ]
  },
  {
   "cell_type": "code",
   "execution_count": null,
   "metadata": {
    "collapsed": false
   },
   "outputs": [],
   "source": [
    "## can I do this?\n",
    "#mylist.next()\n",
    "\n",
    "## or this?\n",
    "#next(mylist)"
   ]
  },
  {
   "cell_type": "code",
   "execution_count": null,
   "metadata": {
    "collapsed": false
   },
   "outputs": [],
   "source": [
    "myiter1 = iter(mylist)\n",
    "type(mylist) , type(myiter1)"
   ]
  },
  {
   "cell_type": "code",
   "execution_count": null,
   "metadata": {
    "collapsed": false
   },
   "outputs": [],
   "source": [
    "myiter1.next()"
   ]
  },
  {
   "cell_type": "code",
   "execution_count": null,
   "metadata": {
    "collapsed": false
   },
   "outputs": [],
   "source": [
    "myiter2 = myiter1 \n",
    "myiter3 = iter(mylist)\n",
    "type(mylist) , type(myiter1) , type(myiter2) , type (myiter3)"
   ]
  },
  {
   "cell_type": "code",
   "execution_count": null,
   "metadata": {
    "collapsed": false
   },
   "outputs": [],
   "source": [
    "id(myiter1) , id(myiter2) , id (myiter3)"
   ]
  },
  {
   "cell_type": "code",
   "execution_count": null,
   "metadata": {
    "collapsed": false
   },
   "outputs": [],
   "source": [
    "### remember \n",
    "### mylist = [ 4, 2, 35, 6 ,7 ,100 , \"hello\" , True , \"This is the last one \" ]"
   ]
  },
  {
   "cell_type": "code",
   "execution_count": null,
   "metadata": {
    "collapsed": false
   },
   "outputs": [],
   "source": [
    "myiter2.next()"
   ]
  },
  {
   "cell_type": "code",
   "execution_count": null,
   "metadata": {
    "collapsed": false
   },
   "outputs": [],
   "source": [
    "myiter1.next()"
   ]
  },
  {
   "cell_type": "code",
   "execution_count": null,
   "metadata": {
    "collapsed": false
   },
   "outputs": [],
   "source": [
    "myiter3.next()"
   ]
  },
  {
   "cell_type": "code",
   "execution_count": null,
   "metadata": {
    "collapsed": true
   },
   "outputs": [],
   "source": [
    "mylist.append(\"here an extra one\")"
   ]
  },
  {
   "cell_type": "code",
   "execution_count": null,
   "metadata": {
    "collapsed": false
   },
   "outputs": [],
   "source": [
    "myiter3.next()"
   ]
  },
  {
   "cell_type": "code",
   "execution_count": null,
   "metadata": {
    "collapsed": true
   },
   "outputs": [],
   "source": [
    "mylist.insert(5,\"this is new\")"
   ]
  },
  {
   "cell_type": "raw",
   "metadata": {},
   "source": [
    "Let's create our own very first object we can iterate on :\n",
    "\n",
    "Our object is a \"ladder\" with N steps \n",
    "We are going to build a truly iterable object, but we will use the sequence protocol :\n",
    "we need a __len__ \n",
    "and a __getitem__"
   ]
  },
  {
   "cell_type": "code",
   "execution_count": null,
   "metadata": {
    "collapsed": true
   },
   "outputs": [],
   "source": [
    "class Ladder(object):\n",
    "    \n",
    "    def __init__(self,steps):\n",
    "        self.steps = steps\n",
    "    \n",
    "    def __len__(self):\n",
    "        return self.steps\n",
    "    \n",
    "    def __getitem__(self,key):\n",
    "        index = key if key >=0 else self.steps + key\n",
    "        if(index >= 0 and index < self.steps ) :\n",
    "            return \"we are on steps %d\" % index\n",
    "        else:\n",
    "            raise IndexError('we are on top')"
   ]
  },
  {
   "cell_type": "code",
   "execution_count": null,
   "metadata": {
    "collapsed": false
   },
   "outputs": [],
   "source": [
    "myladder = Ladder(5)"
   ]
  },
  {
   "cell_type": "code",
   "execution_count": null,
   "metadata": {
    "collapsed": false
   },
   "outputs": [],
   "source": [
    "print (myladder[-2])"
   ]
  },
  {
   "cell_type": "code",
   "execution_count": null,
   "metadata": {
    "collapsed": false
   },
   "outputs": [],
   "source": [
    "print (list(myladder))"
   ]
  },
  {
   "cell_type": "code",
   "execution_count": null,
   "metadata": {
    "collapsed": false
   },
   "outputs": [],
   "source": [
    "for i in myladder : \n",
    "    print(i)"
   ]
  },
  {
   "cell_type": "code",
   "execution_count": null,
   "metadata": {
    "collapsed": true
   },
   "outputs": [],
   "source": [
    "## The appropriate method of implementing a sequence protocol is implementing the object under sequence.\n",
    "\n",
    "import collections \n",
    "class Ladder(collections.Sequence):\n",
    "    \n",
    "    def __init__(self,steps):\n",
    "        self.steps = steps\n",
    "    \n",
    "    def __len__(self):\n",
    "        return self.steps\n",
    "    \n",
    "    def __getitem__(self,key):\n",
    "        index = key if key >=0 else self.steps + key\n",
    "        if(index >= 0 and index < self.steps ) :\n",
    "            return \"we are on steps %d\" % index\n",
    "        else:\n",
    "            raise IndexError('we are on top')"
   ]
  },
  {
   "cell_type": "code",
   "execution_count": null,
   "metadata": {
    "collapsed": true
   },
   "outputs": [],
   "source": [
    "myladder = Ladder(5)"
   ]
  },
  {
   "cell_type": "code",
   "execution_count": null,
   "metadata": {
    "collapsed": false
   },
   "outputs": [],
   "source": [
    "## it looks like it behaves the same way\n",
    "for i in myladder : \n",
    "    print(i)"
   ]
  },
  {
   "cell_type": "code",
   "execution_count": null,
   "metadata": {
    "collapsed": false
   },
   "outputs": [],
   "source": [
    "## but we are gaining some cool functionalities \n",
    "print (\"we are on steps 0\" in myladder )\n",
    "print (\"we are on steps 5\" in myladder )\n",
    "print (myladder.index(\"we are on steps 4\"))\n",
    "print (list(reversed(myladder)))"
   ]
  },
  {
   "cell_type": "raw",
   "metadata": {},
   "source": [
    "If we want to build an iterable we need to implement two additional methods :\n",
    "\n",
    "-   __iter__  which returns and iterator \n",
    "\n",
    "-  the iterator must implement a .next  method ( python 2 ) or __next__ ( python 3 )"
   ]
  },
  {
   "cell_type": "code",
   "execution_count": null,
   "metadata": {
    "collapsed": false
   },
   "outputs": [],
   "source": [
    "class Ladder(object):\n",
    "    \n",
    "    def __init__(self,steps):\n",
    "        self.steps = steps\n",
    "    \n",
    "    def __len__(self):\n",
    "        return self.steps\n",
    "    \n",
    "    def __iter__(self):\n",
    "        return LadderIterator(self)\n",
    "\n",
    "\n",
    "class LadderIterator(object):\n",
    "    \n",
    "        def __init__(self,ladder):\n",
    "            self.ladder = ladder\n",
    "            self.current_step = 0 \n",
    "        \n",
    "        def __next__(self):\n",
    "            if(self.current_step < len(self.ladder)):\n",
    "                self.current_step +=1\n",
    "                return \"we are on step %d\" % self.current_step \n",
    "            else :\n",
    "                raise StopIteration() \n",
    "        \n",
    "        next = __next__\n",
    "            \n",
    "    "
   ]
  },
  {
   "cell_type": "code",
   "execution_count": null,
   "metadata": {
    "collapsed": true
   },
   "outputs": [],
   "source": [
    "myladder = Ladder(5)"
   ]
  },
  {
   "cell_type": "code",
   "execution_count": null,
   "metadata": {
    "collapsed": false
   },
   "outputs": [],
   "source": [
    "type(myladder)"
   ]
  },
  {
   "cell_type": "code",
   "execution_count": null,
   "metadata": {
    "collapsed": false
   },
   "outputs": [],
   "source": [
    "for i in myladder : \n",
    "    print(i)"
   ]
  },
  {
   "cell_type": "code",
   "execution_count": null,
   "metadata": {
    "collapsed": false
   },
   "outputs": [],
   "source": [
    "a = iter(myladder)"
   ]
  },
  {
   "cell_type": "code",
   "execution_count": null,
   "metadata": {
    "collapsed": false
   },
   "outputs": [],
   "source": [
    "type(a)"
   ]
  },
  {
   "cell_type": "code",
   "execution_count": null,
   "metadata": {
    "collapsed": false
   },
   "outputs": [],
   "source": [
    "next(a)"
   ]
  },
  {
   "cell_type": "markdown",
   "metadata": {
    "collapsed": true
   },
   "source": [
    "Since we are now familiar with generators, we can actually implement the same in this way"
   ]
  },
  {
   "cell_type": "code",
   "execution_count": null,
   "metadata": {
    "collapsed": true
   },
   "outputs": [],
   "source": [
    "class Ladder(object):\n",
    "    \n",
    "    def __init__(self,steps):\n",
    "        self.steps = steps\n",
    "    \n",
    "    def __len__(self):\n",
    "        return self.steps\n",
    "    \n",
    "    def __iter__(self):\n",
    "        for i in range(self.steps):\n",
    "            yield  \"we are on step %d\" % i\n",
    "\n"
   ]
  },
  {
   "cell_type": "code",
   "execution_count": null,
   "metadata": {
    "collapsed": true
   },
   "outputs": [],
   "source": [
    "myladder = Ladder(5)"
   ]
  },
  {
   "cell_type": "code",
   "execution_count": null,
   "metadata": {
    "collapsed": false
   },
   "outputs": [],
   "source": [
    "for i in myladder :\n",
    "    print(i)"
   ]
  },
  {
   "cell_type": "code",
   "execution_count": null,
   "metadata": {
    "collapsed": false
   },
   "outputs": [],
   "source": [
    "a = iter(myladder)"
   ]
  },
  {
   "cell_type": "code",
   "execution_count": null,
   "metadata": {
    "collapsed": false
   },
   "outputs": [],
   "source": [
    "type(a)"
   ]
  },
  {
   "cell_type": "code",
   "execution_count": null,
   "metadata": {
    "collapsed": false
   },
   "outputs": [],
   "source": [
    "list(a)"
   ]
  },
  {
   "cell_type": "code",
   "execution_count": null,
   "metadata": {
    "collapsed": true
   },
   "outputs": [],
   "source": []
  },
  {
   "cell_type": "code",
   "execution_count": null,
   "metadata": {
    "collapsed": true
   },
   "outputs": [],
   "source": []
  },
  {
   "cell_type": "markdown",
   "metadata": {},
   "source": [
    "### Decorators\n",
    "\n",
    "a decorator is a function that wraps around another function ( or object ) to tune or modify in some way it's behavior."
   ]
  },
  {
   "cell_type": "code",
   "execution_count": null,
   "metadata": {
    "collapsed": false
   },
   "outputs": [],
   "source": [
    "## we can first write a simple decorator that prints some stuff , and then \n",
    "## adds a \"timer\" to our function\n",
    "\n",
    "def mydecorator(myfunc):\n",
    "    import time\n",
    "    \n",
    "    print (\"this does nothing special, just wraps around the function and measure time\")\n",
    "    print (\"and not in a very accurate way :) \")\n",
    "    def inner(*args ,**kwargs):\n",
    "        mystart = time.time()\n",
    "        myresults = myfunc(*args ,**kwargs)\n",
    "        myend = time.time()\n",
    "        print (\"elapsed time = \" , myend - mystart)\n",
    "        return myresults \n",
    "\n",
    "    return inner\n",
    "\n",
    "#@mydecorator\n",
    "def mytestfunction(a):\n",
    "    return max(a)\n",
    "    #return max([x**2 for x in a])\n",
    "        \n",
    "a = list(range(int(1e7)))  \n",
    "    \n",
    "    \n",
    "mytestfunction(a)"
   ]
  },
  {
   "cell_type": "code",
   "execution_count": null,
   "metadata": {
    "collapsed": true
   },
   "outputs": [],
   "source": [
    "def mytestfunction(a):\n",
    "    return max(a)"
   ]
  },
  {
   "cell_type": "code",
   "execution_count": null,
   "metadata": {
    "collapsed": false
   },
   "outputs": [],
   "source": [
    "%timeit mytestfunction(a)"
   ]
  },
  {
   "cell_type": "code",
   "execution_count": null,
   "metadata": {
    "collapsed": false
   },
   "outputs": [],
   "source": [
    "## In this second example we will actually modify the behavior of the function \n",
    "\n",
    "def mydecorator2(myfunc):\n",
    "    import time\n",
    "    \n",
    "    print (\"In addition to timing, here we are modifying the behavior of the function,\")\n",
    "    print (\"modifying the arguments. The function will now process the list of squares\")\n",
    "    print ()\n",
    "    def inner(*args ,**kwargs):\n",
    "        mystart = time.time()\n",
    "        ## we are also going to change the args this time\n",
    "        args = ( [x**2 for x in args[0]], )\n",
    "        myresults = myfunc(*args ,**kwargs)\n",
    "        myend = time.time()\n",
    "        print (\"elapsed time = \" , myend - mystart)\n",
    "        return myresults \n",
    "\n",
    "    return inner\n",
    "\n",
    "@mydecorator2\n",
    "def mytestfunction(a):\n",
    "    return max(a)\n",
    "        \n",
    "a = list(range(int(1e7)))  \n",
    "    \n",
    "    \n",
    "mytestfunction(a)"
   ]
  },
  {
   "cell_type": "code",
   "execution_count": null,
   "metadata": {
    "collapsed": true
   },
   "outputs": [],
   "source": []
  },
  {
   "cell_type": "markdown",
   "metadata": {},
   "source": [
    "## Profiling \n",
    "\n",
    "#### Now let's have a quick look at how to profile your code ... this is just a simple example.   We will have a session on Python for HPC applicatons  in January ... stay tuned :)\n",
    "\n",
    "<br>\n",
    "Profiling is useful to identify the section(s) of your code that are most computationally expensive. \n",
    "So you can focus your programming efforts where it's actually needed.<br>\n",
    "\n",
    "Assuming you already have your code, then you can:\n",
    "- first run a general internal profiler that will catch and time the function calls \n",
    "- then, once identified the critical points, go deeper in the analysis using an external tool.\n",
    "\n",
    "For the first profiling simply execute in your terminal:  \n",
    "##### python -m cProfile -s cumtime my_program.py \n",
    "\n",
    "Once you have spotted the functions that might need a more extensive analysis , you can use a tool called `kernprof` \n",
    "\n",
    "For that you need to install an additional package called `line_profiler` <br>\n",
    "- pip install line_profiler\n",
    "<br> or, if you have anaconda <br>\n",
    "- conda install line_profiler\n",
    "\n",
    "Then add a the decorator `@profile` to the functions you want to profile and run:\n",
    "##### kernprof -l -v my_decorated_program.py \n",
    "\n",
    "The program will output a report of the execution time for each line of code in the decorated function.\n",
    "<br>"
   ]
  },
  {
   "cell_type": "code",
   "execution_count": null,
   "metadata": {
    "collapsed": false
   },
   "outputs": [],
   "source": [
    "from math import sqrt\n",
    "import sys\n",
    "if ( sys.version_info  >= (3,) ) : from functools import reduce   ## if python3\n",
    "\n",
    "def funct1(v):\n",
    "    return reduce(lambda x,y : x-y ,v)\n",
    "\n",
    "def funct2(v):\n",
    "    v.sort()\n",
    "    a =  [ x**2    for x in v ]\n",
    "    b =  [ x + 5.  for x in a ]\n",
    "    c =  [sqrt(x) for x in b  ]\n",
    "    return max(c)\n",
    "\n",
    "def funct3(v):\n",
    "    c =  [sqrt(x) for x in v  ]\n",
    "    return max(c)\n",
    "\n",
    "if __name__=='__main__':\n",
    "    v1 = [1.,2.,3.,4.,5.]*int(1e6)\n",
    "    res = funct1(v1)\n",
    "    print (\"res for model 1 = \",res )\n",
    "    res = funct2(v1)\n",
    "    print (\"res for model 2 = \",res )\n",
    "    res = funct3(v1)\n",
    "    print (\"res for model 2 = \",res )\n",
    "\n"
   ]
  },
  {
   "cell_type": "markdown",
   "metadata": {},
   "source": [
    "#### Just for fun, do you see obvious ways to improve the previous code?"
   ]
  },
  {
   "cell_type": "code",
   "execution_count": null,
   "metadata": {
    "collapsed": true
   },
   "outputs": [],
   "source": []
  },
  {
   "cell_type": "code",
   "execution_count": null,
   "metadata": {
    "collapsed": true
   },
   "outputs": [],
   "source": []
  },
  {
   "cell_type": "code",
   "execution_count": null,
   "metadata": {
    "collapsed": true
   },
   "outputs": [],
   "source": []
  },
  {
   "cell_type": "code",
   "execution_count": null,
   "metadata": {
    "collapsed": false
   },
   "outputs": [],
   "source": [
    "%reset"
   ]
  },
  {
   "cell_type": "code",
   "execution_count": null,
   "metadata": {
    "collapsed": true
   },
   "outputs": [],
   "source": []
  },
  {
   "cell_type": "code",
   "execution_count": null,
   "metadata": {
    "collapsed": true
   },
   "outputs": [],
   "source": []
  }
 ],
 "metadata": {
  "kernelspec": {
   "display_name": "Python 2",
   "language": "python",
   "name": "python2"
  },
  "language_info": {
   "codemirror_mode": {
    "name": "ipython",
    "version": 2
   },
   "file_extension": ".py",
   "mimetype": "text/x-python",
   "name": "python",
   "nbconvert_exporter": "python",
   "pygments_lexer": "ipython2",
   "version": "2.7.10"
  }
 },
 "nbformat": 4,
 "nbformat_minor": 0
}
